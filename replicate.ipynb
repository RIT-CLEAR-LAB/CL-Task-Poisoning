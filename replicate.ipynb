{
 "cells": [
  {
   "cell_type": "code",
   "execution_count": 1,
   "metadata": {},
   "outputs": [
    {
     "name": "stdout",
     "output_type": "stream",
     "text": [
      "Warning: GEM and A-GEM cannot be used on Windows (quadprog required)\n"
     ]
    }
   ],
   "source": [
    "import numpy  # needed (don't change it)\n",
    "import importlib\n",
    "import os\n",
    "import socket\n",
    "import sys\n",
    "import setproctitle\n",
    "import torch\n",
    "\n",
    "import datetime\n",
    "import uuid\n",
    "from argparse import ArgumentParser\n",
    "\n",
    "\n",
    "mammoth_path = '/home/jw7630/repos/CL-Task-Poisoning' #os.path.dirname(os.path.dirname(os.path.abspath(__file__)))  # nopep8\n",
    "sys.path.append(mammoth_path)  # nopep8\n",
    "sys.path.append(mammoth_path + '/datasets')  # nopep8\n",
    "sys.path.append(mammoth_path + '/backbone')  # nopep8\n",
    "sys.path.append(mammoth_path + '/models')  # nopep8\n",
    "\n",
    "\n",
    "from datasets import NAMES as DATASET_NAMES  # nopep8\n",
    "from datasets import ContinualDataset, get_dataset  # nopep8\n",
    "from models import get_all_models, get_model  # nopep8\n",
    "\n",
    "from utils.args import add_management_args\n",
    "from utils.best_args import best_args\n",
    "from utils.conf import set_random_seed\n",
    "from utils.continual_training import train as ctrain\n",
    "from utils.distributed import make_dp\n",
    "from utils.training import train\n",
    "\n",
    "def lecun_fix():\n",
    "    # Yann moved his website to CloudFlare. You need this now\n",
    "    from six.moves import urllib  # pyright: ignore\n",
    "    opener = urllib.request.build_opener()\n",
    "    opener.addheaders = [('User-agent', 'Mozilla/5.0')]\n",
    "    urllib.request.install_opener(opener)\n",
    "\n",
    "lecun_fix()"
   ]
  },
  {
   "cell_type": "code",
   "execution_count": 27,
   "metadata": {},
   "outputs": [],
   "source": [
    "def main(args=None, log_filename=None):\n",
    "    os.putenv(\"MKL_SERVICE_FORCE_INTEL\", \"1\")\n",
    "    os.putenv(\"NPY_MKL_FORCE_INTEL\", \"1\")\n",
    "\n",
    "    # Add uuid, timestamp and hostname for logging\n",
    "    args.conf_jobnum = str(uuid.uuid4())\n",
    "    args.conf_timestamp = str(datetime.datetime.now())\n",
    "    args.conf_host = socket.gethostname()\n",
    "    dataset = get_dataset(args)\n",
    "\n",
    "    if args.batch_size is None:\n",
    "        args.batch_size = dataset.get_batch_size()\n",
    "    if hasattr(importlib.import_module('models.' + args.model), 'Buffer') and args.minibatch_size is None:\n",
    "        args.minibatch_size = dataset.get_minibatch_size()\n",
    "\n",
    "    backbone = dataset.get_backbone()\n",
    "    loss = dataset.get_loss()\n",
    "    model = get_model(args, backbone, loss, dataset.get_transform())\n",
    "\n",
    "\n",
    "    # set job name\n",
    "    setproctitle.setproctitle('{}_{}_{}'.format(args.model, args.buffer_size if 'buffer_size' in args else 0, args.dataset))\n",
    "\n",
    "    if isinstance(dataset, ContinualDataset):\n",
    "        train(model, dataset, args, log_filename)\n",
    "    else:\n",
    "        assert not hasattr(model, 'end_task') or model.NAME == 'joint_gcl'\n",
    "        ctrain(args)"
   ]
  },
  {
   "cell_type": "code",
   "execution_count": 45,
   "metadata": {},
   "outputs": [],
   "source": [
    "models = [\"er\", \"der\", \"derpp\", \"xder\", \"er_ace\"]\n",
    "buffer_sizes = [200, 500, 2000, 5000]\n",
    "label_flip_percentages = [0, 25, 50, 75]\n"
   ]
  },
  {
   "cell_type": "code",
   "execution_count": 61,
   "metadata": {},
   "outputs": [],
   "source": [
    "import itertools\n",
    "\n",
    "def argument_combinations(buffer_sizes, models, label_flip_percentages):\n",
    "    \"\"\"\n",
    "    Generator that yields every combination of arguments.\n",
    "    \"\"\"\n",
    "    for combination in itertools.product(buffer_sizes, models, label_flip_percentages):\n",
    "        yield {\n",
    "            \"buffer_size\": combination[0],\n",
    "            \"model\": combination[1],\n",
    "            \"label_flip_percentage\": combination[2],\n",
    "        }\n",
    "\n",
    "models = [\"er\", \"der\", \"derpp\", \"xder\", \"er_ace\"]\n",
    "buffer_size = [200, 500, 2000, 5000]\n",
    "label_flip_percentage = [0, 25, 50, 75]\n",
    "\n",
    "\n",
    "\n",
    "# Gaussian noise fro input coruption, highest severity"
   ]
  },
  {
   "cell_type": "code",
   "execution_count": 57,
   "metadata": {},
   "outputs": [
    {
     "ename": "TypeError",
     "evalue": "'int' object is not iterable",
     "output_type": "error",
     "traceback": [
      "\u001b[0;31m---------------------------------------------------------------------------\u001b[0m",
      "\u001b[0;31mTypeError\u001b[0m                                 Traceback (most recent call last)",
      "Cell \u001b[0;32mIn[57], line 1\u001b[0m\n\u001b[0;32m----> 1\u001b[0m \u001b[38;5;28;01mfor\u001b[39;00m args \u001b[38;5;129;01min\u001b[39;00m argument_combinations(buffer_size, models, label_flip_percentage):\n\u001b[1;32m      2\u001b[0m     \u001b[38;5;28mprint\u001b[39m(args)\n",
      "Cell \u001b[0;32mIn[3], line 7\u001b[0m, in \u001b[0;36margument_combinations\u001b[0;34m(buffer_size, image_poisoning_type, label_flip_percentage)\u001b[0m\n\u001b[1;32m      3\u001b[0m \u001b[38;5;28;01mdef\u001b[39;00m \u001b[38;5;21margument_combinations\u001b[39m(buffer_size, image_poisoning_type, label_flip_percentage):\n\u001b[1;32m      4\u001b[0m \u001b[38;5;250m    \u001b[39m\u001b[38;5;124;03m\"\"\"\u001b[39;00m\n\u001b[1;32m      5\u001b[0m \u001b[38;5;124;03m    Generator that yields every combination of arguments.\u001b[39;00m\n\u001b[1;32m      6\u001b[0m \u001b[38;5;124;03m    \"\"\"\u001b[39;00m\n\u001b[0;32m----> 7\u001b[0m     \u001b[38;5;28;01mfor\u001b[39;00m combination \u001b[38;5;129;01min\u001b[39;00m \u001b[43mitertools\u001b[49m\u001b[38;5;241;43m.\u001b[39;49m\u001b[43mproduct\u001b[49m\u001b[43m(\u001b[49m\u001b[43mbuffer_size\u001b[49m\u001b[43m,\u001b[49m\u001b[43m \u001b[49m\u001b[43mimage_poisoning_type\u001b[49m\u001b[43m,\u001b[49m\u001b[43m \u001b[49m\u001b[43mlabel_flip_percentage\u001b[49m\u001b[43m)\u001b[49m:\n\u001b[1;32m      8\u001b[0m         \u001b[38;5;28;01myield\u001b[39;00m {\n\u001b[1;32m      9\u001b[0m             \u001b[38;5;124m\"\u001b[39m\u001b[38;5;124mbuffer_size\u001b[39m\u001b[38;5;124m\"\u001b[39m: combination[\u001b[38;5;241m0\u001b[39m],\n\u001b[1;32m     10\u001b[0m             \u001b[38;5;124m\"\u001b[39m\u001b[38;5;124mimage_poisoning_type\u001b[39m\u001b[38;5;124m\"\u001b[39m: combination[\u001b[38;5;241m1\u001b[39m],\n\u001b[1;32m     11\u001b[0m             \u001b[38;5;124m\"\u001b[39m\u001b[38;5;124mlabel_flip_percentage\u001b[39m\u001b[38;5;124m\"\u001b[39m: combination[\u001b[38;5;241m2\u001b[39m],\n\u001b[1;32m     12\u001b[0m         }\n",
      "\u001b[0;31mTypeError\u001b[0m: 'int' object is not iterable"
     ]
    }
   ],
   "source": [
    "\n",
    "for args in argument_combinations(buffer_sizes, models, label_flip_percentages):\n",
    "    print(args)"
   ]
  },
  {
   "cell_type": "code",
   "execution_count": 60,
   "metadata": {},
   "outputs": [
    {
     "name": "stdout",
     "output_type": "stream",
     "text": [
      "{'buffer_size': 200, 'image_poisoning_type': 'er', 'label_flip_percentage': 0}\n",
      "{'buffer_size': 200, 'image_poisoning_type': 'er', 'label_flip_percentage': 25}\n",
      "{'buffer_size': 200, 'image_poisoning_type': 'er', 'label_flip_percentage': 50}\n",
      "{'buffer_size': 200, 'image_poisoning_type': 'er', 'label_flip_percentage': 75}\n",
      "{'buffer_size': 200, 'image_poisoning_type': 'der', 'label_flip_percentage': 0}\n",
      "{'buffer_size': 200, 'image_poisoning_type': 'der', 'label_flip_percentage': 25}\n",
      "{'buffer_size': 200, 'image_poisoning_type': 'der', 'label_flip_percentage': 50}\n",
      "{'buffer_size': 200, 'image_poisoning_type': 'der', 'label_flip_percentage': 75}\n",
      "{'buffer_size': 200, 'image_poisoning_type': 'derpp', 'label_flip_percentage': 0}\n",
      "{'buffer_size': 200, 'image_poisoning_type': 'derpp', 'label_flip_percentage': 25}\n",
      "{'buffer_size': 200, 'image_poisoning_type': 'derpp', 'label_flip_percentage': 50}\n",
      "{'buffer_size': 200, 'image_poisoning_type': 'derpp', 'label_flip_percentage': 75}\n",
      "{'buffer_size': 200, 'image_poisoning_type': 'xder', 'label_flip_percentage': 0}\n",
      "{'buffer_size': 200, 'image_poisoning_type': 'xder', 'label_flip_percentage': 25}\n",
      "{'buffer_size': 200, 'image_poisoning_type': 'xder', 'label_flip_percentage': 50}\n",
      "{'buffer_size': 200, 'image_poisoning_type': 'xder', 'label_flip_percentage': 75}\n",
      "{'buffer_size': 200, 'image_poisoning_type': 'er_ace', 'label_flip_percentage': 0}\n",
      "{'buffer_size': 200, 'image_poisoning_type': 'er_ace', 'label_flip_percentage': 25}\n",
      "{'buffer_size': 200, 'image_poisoning_type': 'er_ace', 'label_flip_percentage': 50}\n",
      "{'buffer_size': 200, 'image_poisoning_type': 'er_ace', 'label_flip_percentage': 75}\n",
      "{'buffer_size': 500, 'image_poisoning_type': 'er', 'label_flip_percentage': 0}\n",
      "{'buffer_size': 500, 'image_poisoning_type': 'er', 'label_flip_percentage': 25}\n",
      "{'buffer_size': 500, 'image_poisoning_type': 'er', 'label_flip_percentage': 50}\n",
      "{'buffer_size': 500, 'image_poisoning_type': 'er', 'label_flip_percentage': 75}\n",
      "{'buffer_size': 500, 'image_poisoning_type': 'der', 'label_flip_percentage': 0}\n",
      "{'buffer_size': 500, 'image_poisoning_type': 'der', 'label_flip_percentage': 25}\n",
      "{'buffer_size': 500, 'image_poisoning_type': 'der', 'label_flip_percentage': 50}\n",
      "{'buffer_size': 500, 'image_poisoning_type': 'der', 'label_flip_percentage': 75}\n",
      "{'buffer_size': 500, 'image_poisoning_type': 'derpp', 'label_flip_percentage': 0}\n",
      "{'buffer_size': 500, 'image_poisoning_type': 'derpp', 'label_flip_percentage': 25}\n",
      "{'buffer_size': 500, 'image_poisoning_type': 'derpp', 'label_flip_percentage': 50}\n",
      "{'buffer_size': 500, 'image_poisoning_type': 'derpp', 'label_flip_percentage': 75}\n",
      "{'buffer_size': 500, 'image_poisoning_type': 'xder', 'label_flip_percentage': 0}\n",
      "{'buffer_size': 500, 'image_poisoning_type': 'xder', 'label_flip_percentage': 25}\n",
      "{'buffer_size': 500, 'image_poisoning_type': 'xder', 'label_flip_percentage': 50}\n",
      "{'buffer_size': 500, 'image_poisoning_type': 'xder', 'label_flip_percentage': 75}\n",
      "{'buffer_size': 500, 'image_poisoning_type': 'er_ace', 'label_flip_percentage': 0}\n",
      "{'buffer_size': 500, 'image_poisoning_type': 'er_ace', 'label_flip_percentage': 25}\n",
      "{'buffer_size': 500, 'image_poisoning_type': 'er_ace', 'label_flip_percentage': 50}\n",
      "{'buffer_size': 500, 'image_poisoning_type': 'er_ace', 'label_flip_percentage': 75}\n",
      "{'buffer_size': 2000, 'image_poisoning_type': 'er', 'label_flip_percentage': 0}\n",
      "{'buffer_size': 2000, 'image_poisoning_type': 'er', 'label_flip_percentage': 25}\n",
      "{'buffer_size': 2000, 'image_poisoning_type': 'er', 'label_flip_percentage': 50}\n",
      "{'buffer_size': 2000, 'image_poisoning_type': 'er', 'label_flip_percentage': 75}\n",
      "{'buffer_size': 2000, 'image_poisoning_type': 'der', 'label_flip_percentage': 0}\n",
      "{'buffer_size': 2000, 'image_poisoning_type': 'der', 'label_flip_percentage': 25}\n",
      "{'buffer_size': 2000, 'image_poisoning_type': 'der', 'label_flip_percentage': 50}\n",
      "{'buffer_size': 2000, 'image_poisoning_type': 'der', 'label_flip_percentage': 75}\n",
      "{'buffer_size': 2000, 'image_poisoning_type': 'derpp', 'label_flip_percentage': 0}\n",
      "{'buffer_size': 2000, 'image_poisoning_type': 'derpp', 'label_flip_percentage': 25}\n",
      "{'buffer_size': 2000, 'image_poisoning_type': 'derpp', 'label_flip_percentage': 50}\n",
      "{'buffer_size': 2000, 'image_poisoning_type': 'derpp', 'label_flip_percentage': 75}\n",
      "{'buffer_size': 2000, 'image_poisoning_type': 'xder', 'label_flip_percentage': 0}\n",
      "{'buffer_size': 2000, 'image_poisoning_type': 'xder', 'label_flip_percentage': 25}\n",
      "{'buffer_size': 2000, 'image_poisoning_type': 'xder', 'label_flip_percentage': 50}\n",
      "{'buffer_size': 2000, 'image_poisoning_type': 'xder', 'label_flip_percentage': 75}\n",
      "{'buffer_size': 2000, 'image_poisoning_type': 'er_ace', 'label_flip_percentage': 0}\n",
      "{'buffer_size': 2000, 'image_poisoning_type': 'er_ace', 'label_flip_percentage': 25}\n",
      "{'buffer_size': 2000, 'image_poisoning_type': 'er_ace', 'label_flip_percentage': 50}\n",
      "{'buffer_size': 2000, 'image_poisoning_type': 'er_ace', 'label_flip_percentage': 75}\n",
      "{'buffer_size': 5000, 'image_poisoning_type': 'er', 'label_flip_percentage': 0}\n",
      "{'buffer_size': 5000, 'image_poisoning_type': 'er', 'label_flip_percentage': 25}\n",
      "{'buffer_size': 5000, 'image_poisoning_type': 'er', 'label_flip_percentage': 50}\n",
      "{'buffer_size': 5000, 'image_poisoning_type': 'er', 'label_flip_percentage': 75}\n",
      "{'buffer_size': 5000, 'image_poisoning_type': 'der', 'label_flip_percentage': 0}\n",
      "{'buffer_size': 5000, 'image_poisoning_type': 'der', 'label_flip_percentage': 25}\n",
      "{'buffer_size': 5000, 'image_poisoning_type': 'der', 'label_flip_percentage': 50}\n",
      "{'buffer_size': 5000, 'image_poisoning_type': 'der', 'label_flip_percentage': 75}\n",
      "{'buffer_size': 5000, 'image_poisoning_type': 'derpp', 'label_flip_percentage': 0}\n",
      "{'buffer_size': 5000, 'image_poisoning_type': 'derpp', 'label_flip_percentage': 25}\n",
      "{'buffer_size': 5000, 'image_poisoning_type': 'derpp', 'label_flip_percentage': 50}\n",
      "{'buffer_size': 5000, 'image_poisoning_type': 'derpp', 'label_flip_percentage': 75}\n",
      "{'buffer_size': 5000, 'image_poisoning_type': 'xder', 'label_flip_percentage': 0}\n",
      "{'buffer_size': 5000, 'image_poisoning_type': 'xder', 'label_flip_percentage': 25}\n",
      "{'buffer_size': 5000, 'image_poisoning_type': 'xder', 'label_flip_percentage': 50}\n",
      "{'buffer_size': 5000, 'image_poisoning_type': 'xder', 'label_flip_percentage': 75}\n",
      "{'buffer_size': 5000, 'image_poisoning_type': 'er_ace', 'label_flip_percentage': 0}\n",
      "{'buffer_size': 5000, 'image_poisoning_type': 'er_ace', 'label_flip_percentage': 25}\n",
      "{'buffer_size': 5000, 'image_poisoning_type': 'er_ace', 'label_flip_percentage': 50}\n",
      "{'buffer_size': 5000, 'image_poisoning_type': 'er_ace', 'label_flip_percentage': 75}\n"
     ]
    }
   ],
   "source": [
    "models = [\"er\", \"der\", \"derpp\", \"xder\", \"er_ace\"]\n",
    "buffer_sizes = [200, 500, 2000, 5000]\n",
    "label_flip_percentages = [0, 25, 50, 75]\n",
    "\n",
    "for args in argument_combinations(buffer_sizes, models, label_flip_percentages):\n",
    "    print(args)"
   ]
  },
  {
   "cell_type": "code",
   "execution_count": 62,
   "metadata": {},
   "outputs": [
    {
     "name": "stdout",
     "output_type": "stream",
     "text": [
      "(200, 'er', 0)\n",
      "(200, 'er', 25)\n",
      "(200, 'er', 50)\n",
      "(200, 'er', 75)\n",
      "(200, 'der', 0)\n",
      "(200, 'der', 25)\n",
      "(200, 'der', 50)\n",
      "(200, 'der', 75)\n",
      "(200, 'derpp', 0)\n",
      "(200, 'derpp', 25)\n",
      "(200, 'derpp', 50)\n",
      "(200, 'derpp', 75)\n",
      "(200, 'xder', 0)\n",
      "(200, 'xder', 25)\n",
      "(200, 'xder', 50)\n",
      "(200, 'xder', 75)\n",
      "(200, 'er_ace', 0)\n",
      "(200, 'er_ace', 25)\n",
      "(200, 'er_ace', 50)\n",
      "(200, 'er_ace', 75)\n",
      "(500, 'er', 0)\n",
      "(500, 'er', 25)\n",
      "(500, 'er', 50)\n",
      "(500, 'er', 75)\n",
      "(500, 'der', 0)\n",
      "(500, 'der', 25)\n",
      "(500, 'der', 50)\n",
      "(500, 'der', 75)\n",
      "(500, 'derpp', 0)\n",
      "(500, 'derpp', 25)\n",
      "(500, 'derpp', 50)\n",
      "(500, 'derpp', 75)\n",
      "(500, 'xder', 0)\n",
      "(500, 'xder', 25)\n",
      "(500, 'xder', 50)\n",
      "(500, 'xder', 75)\n",
      "(500, 'er_ace', 0)\n",
      "(500, 'er_ace', 25)\n",
      "(500, 'er_ace', 50)\n",
      "(500, 'er_ace', 75)\n",
      "(2000, 'er', 0)\n",
      "(2000, 'er', 25)\n",
      "(2000, 'er', 50)\n",
      "(2000, 'er', 75)\n",
      "(2000, 'der', 0)\n",
      "(2000, 'der', 25)\n",
      "(2000, 'der', 50)\n",
      "(2000, 'der', 75)\n",
      "(2000, 'derpp', 0)\n",
      "(2000, 'derpp', 25)\n",
      "(2000, 'derpp', 50)\n",
      "(2000, 'derpp', 75)\n",
      "(2000, 'xder', 0)\n",
      "(2000, 'xder', 25)\n",
      "(2000, 'xder', 50)\n",
      "(2000, 'xder', 75)\n",
      "(2000, 'er_ace', 0)\n",
      "(2000, 'er_ace', 25)\n",
      "(2000, 'er_ace', 50)\n",
      "(2000, 'er_ace', 75)\n",
      "(5000, 'er', 0)\n",
      "(5000, 'er', 25)\n",
      "(5000, 'er', 50)\n",
      "(5000, 'er', 75)\n",
      "(5000, 'der', 0)\n",
      "(5000, 'der', 25)\n",
      "(5000, 'der', 50)\n",
      "(5000, 'der', 75)\n",
      "(5000, 'derpp', 0)\n",
      "(5000, 'derpp', 25)\n",
      "(5000, 'derpp', 50)\n",
      "(5000, 'derpp', 75)\n",
      "(5000, 'xder', 0)\n",
      "(5000, 'xder', 25)\n",
      "(5000, 'xder', 50)\n",
      "(5000, 'xder', 75)\n",
      "(5000, 'er_ace', 0)\n",
      "(5000, 'er_ace', 25)\n",
      "(5000, 'er_ace', 50)\n",
      "(5000, 'er_ace', 75)\n"
     ]
    }
   ],
   "source": [
    "for i in itertools.product(buffer_sizes, models, label_flip_percentages):\n",
    "    print(i)"
   ]
  },
  {
   "cell_type": "code",
   "execution_count": 64,
   "metadata": {},
   "outputs": [
    {
     "name": "stdout",
     "output_type": "stream",
     "text": [
      "Creating poisonings at tasks:  [10]\n",
      "Namespace(dataset='seq-cifar100-label-poisoning', model='er', n_epochs=1, nowand=1, non_verbose=1, ignore_other_metrics=1, seed=42, n_label_flip_poisonings=1, poisoning_severity=5, classes_per_poisoning=0, buffer_mode='reservoir', n_image_poisonings=None, debug_mode=0, disable_log=0, batch_size=128, minibatch_size=128, buffer_size=200, label_flip_percentage=0, lr=0.1, optim_mom=0, optim_wd=0, conf_jobnum='6ce8db64-8d8f-4b3b-9cf9-21f0ffb49415', conf_timestamp='2024-12-29 14:34:37.022100', conf_host='rankine.cis.rit.edu')\n",
      "New Classes: [0, 1, 2, 3, 4]\n",
      "Poisoned Classes: []\n"
     ]
    },
    {
     "name": "stderr",
     "output_type": "stream",
     "text": [
      "\n",
      "/home/aa5264/Desktop/CL-Mammoth/venv/lib/python3.10/site-packages/torch/optim/lr_scheduler.py:28: UserWarning: The verbose parameter is deprecated. Please use get_last_lr() to access the learning rate.\n",
      "  warnings.warn(\"The verbose parameter is deprecated. Please use get_last_lr() \"\n",
      "[ 12-29 | 14:34 ] Task 1 | epoch 0\n",
      "\n",
      "Metrics for 1 task(s): \t [Class-IL Acc]: 50.6 % \t [Task-IL Acc]: 50.6 %\n",
      "\n"
     ]
    },
    {
     "name": "stdout",
     "output_type": "stream",
     "text": [
      "New Classes: [5, 6, 7, 8, 9]\n",
      "Poisoned Classes: []\n"
     ]
    },
    {
     "name": "stderr",
     "output_type": "stream",
     "text": [
      "[ 12-29 | 14:34 ] Task 2 | epoch 0\n",
      "\n",
      "Metrics for 2 task(s): \t [Class-IL Acc]: 26.7 % \t [Task-IL Acc]: 44.6 %\n",
      "\n"
     ]
    },
    {
     "name": "stdout",
     "output_type": "stream",
     "text": [
      "New Classes: [10, 11, 12, 13, 14]\n",
      "Poisoned Classes: []\n"
     ]
    },
    {
     "name": "stderr",
     "output_type": "stream",
     "text": [
      "[ 12-29 | 14:34 ] Task 3 | epoch 0\n",
      "\n",
      "Metrics for 3 task(s): \t [Class-IL Acc]: 23.67 % \t [Task-IL Acc]: 44.0 %\n",
      "\n"
     ]
    },
    {
     "name": "stdout",
     "output_type": "stream",
     "text": [
      "New Classes: [15, 16, 17, 18, 19]\n",
      "Poisoned Classes: []\n"
     ]
    },
    {
     "name": "stderr",
     "output_type": "stream",
     "text": [
      "[ 12-29 | 14:34 ] Task 4 | epoch 0\n",
      "\n",
      "Metrics for 4 task(s): \t [Class-IL Acc]: 20.3 % \t [Task-IL Acc]: 48.5 %\n",
      "\n"
     ]
    },
    {
     "name": "stdout",
     "output_type": "stream",
     "text": [
      "New Classes: [20, 21, 22, 23, 24]\n",
      "Poisoned Classes: []\n"
     ]
    },
    {
     "name": "stderr",
     "output_type": "stream",
     "text": [
      "[ 12-29 | 14:34 ] Task 5 | epoch 0\n",
      "\n",
      "Metrics for 5 task(s): \t [Class-IL Acc]: 18.16 % \t [Task-IL Acc]: 48.36 %\n",
      "\n"
     ]
    },
    {
     "name": "stdout",
     "output_type": "stream",
     "text": [
      "New Classes: [25, 26, 27, 28, 29]\n",
      "Poisoned Classes: []\n"
     ]
    },
    {
     "name": "stderr",
     "output_type": "stream",
     "text": [
      "[ 12-29 | 14:34 ] Task 6 | epoch 0\n",
      "\n",
      "Metrics for 6 task(s): \t [Class-IL Acc]: 14.13 % \t [Task-IL Acc]: 44.3 %\n",
      "\n"
     ]
    },
    {
     "name": "stdout",
     "output_type": "stream",
     "text": [
      "New Classes: [30, 31, 32, 33, 34]\n",
      "Poisoned Classes: []\n"
     ]
    },
    {
     "name": "stderr",
     "output_type": "stream",
     "text": [
      "[ 12-29 | 14:35 ] Task 7 | epoch 0\n",
      "\n",
      "Metrics for 7 task(s): \t [Class-IL Acc]: 12.97 % \t [Task-IL Acc]: 47.43 %\n",
      "\n"
     ]
    },
    {
     "name": "stdout",
     "output_type": "stream",
     "text": [
      "New Classes: [35, 36, 37, 38, 39]\n",
      "Poisoned Classes: []\n"
     ]
    },
    {
     "name": "stderr",
     "output_type": "stream",
     "text": [
      "[ 12-29 | 14:35 ] Task 8 | epoch 0\n",
      "\n",
      "Metrics for 8 task(s): \t [Class-IL Acc]: 14.38 % \t [Task-IL Acc]: 48.03 %\n",
      "\n"
     ]
    },
    {
     "name": "stdout",
     "output_type": "stream",
     "text": [
      "New Classes: [40, 41, 42, 43, 44]\n",
      "Poisoned Classes: []\n"
     ]
    },
    {
     "name": "stderr",
     "output_type": "stream",
     "text": [
      "[ 12-29 | 14:35 ] Task 9 | epoch 0\n",
      "\n",
      "Metrics for 9 task(s): \t [Class-IL Acc]: 13.29 % \t [Task-IL Acc]: 45.96 %\n",
      "\n"
     ]
    },
    {
     "name": "stdout",
     "output_type": "stream",
     "text": [
      "New Classes: [45, 46, 47, 48, 49]\n",
      "Poisoned Classes: []\n"
     ]
    },
    {
     "name": "stderr",
     "output_type": "stream",
     "text": [
      "[ 12-29 | 14:35 ] Task 10 | epoch 0\n",
      "\n",
      "Metrics for 10 task(s): \t [Class-IL Acc]: 11.12 % \t [Task-IL Acc]: 46.62 %\n",
      "\n"
     ]
    },
    {
     "name": "stdout",
     "output_type": "stream",
     "text": [
      "New Classes: [50, 51, 52, 53, 54]\n",
      "Poisoned Classes: [0, 1, 2, 3, 4, 5, 6, 7, 8, 9, 10, 11, 12, 13, 14, 15, 16, 17, 18, 19, 20, 21, 22, 23, 24, 25, 26, 27, 28, 29, 30, 31, 32, 33, 34, 35, 36, 37, 38, 39, 40, 41, 42, 43, 44, 45, 46, 47, 48, 49]\n"
     ]
    },
    {
     "name": "stderr",
     "output_type": "stream",
     "text": [
      "[ 12-29 | 14:35 ] Task 11 | epoch 0\n",
      "\n",
      "Metrics for 11 task(s): \t [Class-IL Acc]: 14.42 % \t [Task-IL Acc]: 53.89 %\n",
      "\n"
     ]
    },
    {
     "name": "stdout",
     "output_type": "stream",
     "text": [
      "New Classes: [55, 56, 57, 58, 59]\n",
      "Poisoned Classes: []\n"
     ]
    },
    {
     "name": "stderr",
     "output_type": "stream",
     "text": [
      "[ 12-29 | 14:35 ] Task 12 | epoch 0\n",
      "\n",
      "Metrics for 12 task(s): \t [Class-IL Acc]: 12.47 % \t [Task-IL Acc]: 51.6 %\n",
      "\n"
     ]
    },
    {
     "name": "stdout",
     "output_type": "stream",
     "text": [
      "New Classes: [60, 61, 62, 63, 64]\n",
      "Poisoned Classes: []\n"
     ]
    },
    {
     "name": "stderr",
     "output_type": "stream",
     "text": [
      "[ 12-29 | 14:35 ] Task 13 | epoch 0\n",
      "\n",
      "Metrics for 13 task(s): \t [Class-IL Acc]: 11.95 % \t [Task-IL Acc]: 52.48 %\n",
      "\n"
     ]
    },
    {
     "name": "stdout",
     "output_type": "stream",
     "text": [
      "New Classes: [65, 66, 67, 68, 69]\n",
      "Poisoned Classes: []\n"
     ]
    },
    {
     "name": "stderr",
     "output_type": "stream",
     "text": [
      "[ 12-29 | 14:35 ] Task 14 | epoch 0\n",
      "\n",
      "Metrics for 14 task(s): \t [Class-IL Acc]: 12.26 % \t [Task-IL Acc]: 53.0 %\n",
      "\n"
     ]
    },
    {
     "name": "stdout",
     "output_type": "stream",
     "text": [
      "New Classes: [70, 71, 72, 73, 74]\n",
      "Poisoned Classes: []\n"
     ]
    },
    {
     "name": "stderr",
     "output_type": "stream",
     "text": [
      "[ 12-29 | 14:35 ] Task 15 | epoch 0\n",
      "\n",
      "Metrics for 15 task(s): \t [Class-IL Acc]: 12.31 % \t [Task-IL Acc]: 54.89 %\n",
      "\n"
     ]
    },
    {
     "name": "stdout",
     "output_type": "stream",
     "text": [
      "New Classes: [75, 76, 77, 78, 79]\n",
      "Poisoned Classes: []\n"
     ]
    },
    {
     "name": "stderr",
     "output_type": "stream",
     "text": [
      "[ 12-29 | 14:35 ] Task 16 | epoch 0\n",
      "\n",
      "Metrics for 16 task(s): \t [Class-IL Acc]: 10.71 % \t [Task-IL Acc]: 52.4 %\n",
      "\n"
     ]
    },
    {
     "name": "stdout",
     "output_type": "stream",
     "text": [
      "New Classes: [80, 81, 82, 83, 84]\n",
      "Poisoned Classes: []\n"
     ]
    },
    {
     "name": "stderr",
     "output_type": "stream",
     "text": [
      "[ 12-29 | 14:36 ] Task 17 | epoch 0\n",
      "\n",
      "Metrics for 17 task(s): \t [Class-IL Acc]: 9.29 % \t [Task-IL Acc]: 52.2 %\n",
      "\n"
     ]
    },
    {
     "name": "stdout",
     "output_type": "stream",
     "text": [
      "New Classes: [85, 86, 87, 88, 89]\n",
      "Poisoned Classes: []\n"
     ]
    },
    {
     "name": "stderr",
     "output_type": "stream",
     "text": [
      "[ 12-29 | 14:36 ] Task 18 | epoch 0\n",
      "\n",
      "Metrics for 18 task(s): \t [Class-IL Acc]: 9.71 % \t [Task-IL Acc]: 52.71 %\n",
      "\n"
     ]
    },
    {
     "name": "stdout",
     "output_type": "stream",
     "text": [
      "New Classes: [90, 91, 92, 93, 94]\n",
      "Poisoned Classes: []\n"
     ]
    },
    {
     "name": "stderr",
     "output_type": "stream",
     "text": [
      "[ 12-29 | 14:36 ] Task 19 | epoch 0\n",
      "\n",
      "Metrics for 19 task(s): \t [Class-IL Acc]: 6.63 % \t [Task-IL Acc]: 52.47 %\n",
      "\n"
     ]
    },
    {
     "name": "stdout",
     "output_type": "stream",
     "text": [
      "New Classes: [95, 96, 97, 98, 99]\n",
      "Poisoned Classes: []\n"
     ]
    },
    {
     "name": "stderr",
     "output_type": "stream",
     "text": [
      "[ 12-29 | 14:36 ] Task 20 | epoch 0\n",
      "\n",
      "Metrics for 20 task(s): \t [Class-IL Acc]: 8.1 % \t [Task-IL Acc]: 53.36 %\n",
      "\n",
      "\n"
     ]
    },
    {
     "name": "stdout",
     "output_type": "stream",
     "text": [
      "Creating poisonings at tasks:  [10]\n",
      "Namespace(dataset='seq-cifar100-label-poisoning', model='der', n_epochs=1, nowand=1, non_verbose=1, ignore_other_metrics=1, seed=42, n_label_flip_poisonings=1, poisoning_severity=5, classes_per_poisoning=0, buffer_mode='reservoir', n_image_poisonings=None, debug_mode=0, disable_log=0, batch_size=128, minibatch_size=128, buffer_size=200, label_flip_percentage=0, lr=0.03, optim_mom=0, optim_wd=0, alpha=0.3, conf_jobnum='55756f62-ae52-4202-97b8-22cc52cfe132', conf_timestamp='2024-12-29 14:36:30.321317', conf_host='rankine.cis.rit.edu')\n",
      "New Classes: [0, 1, 2, 3, 4]\n",
      "Poisoned Classes: []\n"
     ]
    },
    {
     "name": "stderr",
     "output_type": "stream",
     "text": [
      "[ 12-29 | 14:36 ] Task 1 | epoch 0\n",
      "\n",
      "Metrics for 1 task(s): \t [Class-IL Acc]: 56.4 % \t [Task-IL Acc]: 56.4 %\n",
      "\n"
     ]
    },
    {
     "name": "stdout",
     "output_type": "stream",
     "text": [
      "New Classes: [5, 6, 7, 8, 9]\n",
      "Poisoned Classes: []\n"
     ]
    },
    {
     "name": "stderr",
     "output_type": "stream",
     "text": [
      "[ 12-29 | 14:36 ] Task 2 | epoch 0\n",
      "\n",
      "Metrics for 2 task(s): \t [Class-IL Acc]: 23.5 % \t [Task-IL Acc]: 51.8 %\n",
      "\n"
     ]
    },
    {
     "name": "stdout",
     "output_type": "stream",
     "text": [
      "New Classes: [10, 11, 12, 13, 14]\n",
      "Poisoned Classes: []\n"
     ]
    },
    {
     "name": "stderr",
     "output_type": "stream",
     "text": [
      "[ 12-29 | 14:36 ] Task 3 | epoch 0\n",
      "\n",
      "Metrics for 3 task(s): \t [Class-IL Acc]: 10.87 % \t [Task-IL Acc]: 37.2 %\n",
      "\n"
     ]
    },
    {
     "name": "stdout",
     "output_type": "stream",
     "text": [
      "New Classes: [15, 16, 17, 18, 19]\n",
      "Poisoned Classes: []\n"
     ]
    },
    {
     "name": "stderr",
     "output_type": "stream",
     "text": [
      "[ 12-29 | 14:36 ] Task 4 | epoch 0\n",
      "\n",
      "Metrics for 4 task(s): \t [Class-IL Acc]: 11.5 % \t [Task-IL Acc]: 47.5 %\n",
      "\n"
     ]
    },
    {
     "name": "stdout",
     "output_type": "stream",
     "text": [
      "New Classes: [20, 21, 22, 23, 24]\n",
      "Poisoned Classes: []\n"
     ]
    },
    {
     "name": "stderr",
     "output_type": "stream",
     "text": [
      "[ 12-29 | 14:36 ] Task 5 | epoch 0\n",
      "\n",
      "Metrics for 5 task(s): \t [Class-IL Acc]: 13.88 % \t [Task-IL Acc]: 51.6 %\n",
      "\n"
     ]
    },
    {
     "name": "stdout",
     "output_type": "stream",
     "text": [
      "New Classes: [25, 26, 27, 28, 29]\n",
      "Poisoned Classes: []\n"
     ]
    },
    {
     "name": "stderr",
     "output_type": "stream",
     "text": [
      "[ 12-29 | 14:36 ] Task 6 | epoch 0\n",
      "\n",
      "Metrics for 6 task(s): \t [Class-IL Acc]: 7.17 % \t [Task-IL Acc]: 48.0 %\n",
      "\n"
     ]
    },
    {
     "name": "stdout",
     "output_type": "stream",
     "text": [
      "New Classes: [30, 31, 32, 33, 34]\n",
      "Poisoned Classes: []\n"
     ]
    },
    {
     "name": "stderr",
     "output_type": "stream",
     "text": [
      "[ 12-29 | 14:36 ] Task 7 | epoch 0\n",
      "\n",
      "Metrics for 7 task(s): \t [Class-IL Acc]: 7.34 % \t [Task-IL Acc]: 44.46 %\n",
      "\n"
     ]
    },
    {
     "name": "stdout",
     "output_type": "stream",
     "text": [
      "New Classes: [35, 36, 37, 38, 39]\n",
      "Poisoned Classes: []\n"
     ]
    },
    {
     "name": "stderr",
     "output_type": "stream",
     "text": [
      "[ 12-29 | 14:37 ] Task 8 | epoch 0\n",
      "\n",
      "Metrics for 8 task(s): \t [Class-IL Acc]: 6.9 % \t [Task-IL Acc]: 44.12 %\n",
      "\n"
     ]
    },
    {
     "name": "stdout",
     "output_type": "stream",
     "text": [
      "New Classes: [40, 41, 42, 43, 44]\n",
      "Poisoned Classes: []\n"
     ]
    },
    {
     "name": "stderr",
     "output_type": "stream",
     "text": [
      "[ 12-29 | 14:37 ] Task 9 | epoch 0\n",
      "\n",
      "Metrics for 9 task(s): \t [Class-IL Acc]: 5.67 % \t [Task-IL Acc]: 43.62 %\n",
      "\n"
     ]
    },
    {
     "name": "stdout",
     "output_type": "stream",
     "text": [
      "New Classes: [45, 46, 47, 48, 49]\n",
      "Poisoned Classes: []\n"
     ]
    },
    {
     "name": "stderr",
     "output_type": "stream",
     "text": [
      "[ 12-29 | 14:37 ] Task 10 | epoch 0\n",
      "\n",
      "Metrics for 10 task(s): \t [Class-IL Acc]: 6.42 % \t [Task-IL Acc]: 43.9 %\n",
      "\n"
     ]
    },
    {
     "name": "stdout",
     "output_type": "stream",
     "text": [
      "New Classes: [50, 51, 52, 53, 54]\n",
      "Poisoned Classes: [0, 1, 2, 3, 4, 5, 6, 7, 8, 9, 10, 11, 12, 13, 14, 15, 16, 17, 18, 19, 20, 21, 22, 23, 24, 25, 26, 27, 28, 29, 30, 31, 32, 33, 34, 35, 36, 37, 38, 39, 40, 41, 42, 43, 44, 45, 46, 47, 48, 49]\n"
     ]
    },
    {
     "name": "stderr",
     "output_type": "stream",
     "text": [
      "[ 12-29 | 14:37 ] Task 11 | epoch 0\n",
      "\n",
      "Metrics for 11 task(s): \t [Class-IL Acc]: 6.75 % \t [Task-IL Acc]: 45.58 %\n",
      "\n"
     ]
    },
    {
     "name": "stdout",
     "output_type": "stream",
     "text": [
      "New Classes: [55, 56, 57, 58, 59]\n",
      "Poisoned Classes: []\n"
     ]
    },
    {
     "name": "stderr",
     "output_type": "stream",
     "text": [
      "[ 12-29 | 14:37 ] Task 12 | epoch 0\n",
      "\n",
      "Metrics for 12 task(s): \t [Class-IL Acc]: 4.32 % \t [Task-IL Acc]: 43.77 %\n",
      "\n"
     ]
    },
    {
     "name": "stdout",
     "output_type": "stream",
     "text": [
      "New Classes: [60, 61, 62, 63, 64]\n",
      "Poisoned Classes: []\n"
     ]
    },
    {
     "name": "stderr",
     "output_type": "stream",
     "text": [
      "[ 12-29 | 14:37 ] Task 13 | epoch 0\n",
      "\n",
      "Metrics for 13 task(s): \t [Class-IL Acc]: 5.17 % \t [Task-IL Acc]: 44.69 %\n",
      "\n"
     ]
    },
    {
     "name": "stdout",
     "output_type": "stream",
     "text": [
      "New Classes: [65, 66, 67, 68, 69]\n",
      "Poisoned Classes: []\n"
     ]
    },
    {
     "name": "stderr",
     "output_type": "stream",
     "text": [
      "[ 12-29 | 14:37 ] Task 14 | epoch 0\n",
      "\n",
      "Metrics for 14 task(s): \t [Class-IL Acc]: 4.14 % \t [Task-IL Acc]: 40.99 %\n",
      "\n"
     ]
    },
    {
     "name": "stdout",
     "output_type": "stream",
     "text": [
      "New Classes: [70, 71, 72, 73, 74]\n",
      "Poisoned Classes: []\n"
     ]
    },
    {
     "name": "stderr",
     "output_type": "stream",
     "text": [
      "[ 12-29 | 14:37 ] Task 15 | epoch 0\n",
      "\n",
      "Metrics for 15 task(s): \t [Class-IL Acc]: 3.85 % \t [Task-IL Acc]: 40.85 %\n",
      "\n"
     ]
    },
    {
     "name": "stdout",
     "output_type": "stream",
     "text": [
      "New Classes: [75, 76, 77, 78, 79]\n",
      "Poisoned Classes: []\n"
     ]
    },
    {
     "name": "stderr",
     "output_type": "stream",
     "text": [
      "[ 12-29 | 14:37 ] Task 16 | epoch 0\n",
      "\n",
      "Metrics for 16 task(s): \t [Class-IL Acc]: 2.94 % \t [Task-IL Acc]: 39.29 %\n",
      "\n"
     ]
    },
    {
     "name": "stdout",
     "output_type": "stream",
     "text": [
      "New Classes: [80, 81, 82, 83, 84]\n",
      "Poisoned Classes: []\n"
     ]
    },
    {
     "name": "stderr",
     "output_type": "stream",
     "text": [
      "[ 12-29 | 14:37 ] Task 17 | epoch 0\n",
      "\n",
      "Metrics for 17 task(s): \t [Class-IL Acc]: 3.71 % \t [Task-IL Acc]: 37.27 %\n",
      "\n"
     ]
    },
    {
     "name": "stdout",
     "output_type": "stream",
     "text": [
      "New Classes: [85, 86, 87, 88, 89]\n",
      "Poisoned Classes: []\n"
     ]
    },
    {
     "name": "stderr",
     "output_type": "stream",
     "text": [
      "[ 12-29 | 14:38 ] Task 18 | epoch 0\n",
      "\n",
      "Metrics for 18 task(s): \t [Class-IL Acc]: 2.89 % \t [Task-IL Acc]: 35.78 %\n",
      "\n"
     ]
    },
    {
     "name": "stdout",
     "output_type": "stream",
     "text": [
      "New Classes: [90, 91, 92, 93, 94]\n",
      "Poisoned Classes: []\n"
     ]
    },
    {
     "name": "stderr",
     "output_type": "stream",
     "text": [
      "[ 12-29 | 14:38 ] Task 19 | epoch 0\n",
      "\n",
      "Metrics for 19 task(s): \t [Class-IL Acc]: 3.17 % \t [Task-IL Acc]: 38.72 %\n",
      "\n"
     ]
    },
    {
     "name": "stdout",
     "output_type": "stream",
     "text": [
      "New Classes: [95, 96, 97, 98, 99]\n",
      "Poisoned Classes: []\n"
     ]
    },
    {
     "name": "stderr",
     "output_type": "stream",
     "text": [
      "[ 12-29 | 14:38 ] Task 20 | epoch 0\n",
      "\n",
      "Metrics for 20 task(s): \t [Class-IL Acc]: 3.15 % \t [Task-IL Acc]: 40.32 %\n",
      "\n",
      "\n"
     ]
    },
    {
     "name": "stdout",
     "output_type": "stream",
     "text": [
      "Creating poisonings at tasks:  [10]\n",
      "Namespace(dataset='seq-cifar100-label-poisoning', model='derpp', n_epochs=1, nowand=1, non_verbose=1, ignore_other_metrics=1, seed=42, n_label_flip_poisonings=1, poisoning_severity=5, classes_per_poisoning=0, buffer_mode='reservoir', n_image_poisonings=None, debug_mode=0, disable_log=0, batch_size=128, minibatch_size=128, buffer_size=200, label_flip_percentage=0, lr=0.03, optim_mom=0, optim_wd=0, alpha=0.1, beta=0.5, conf_jobnum='12acaa42-4bd7-44fd-91aa-7d61659c4144', conf_timestamp='2024-12-29 14:38:24.543097', conf_host='rankine.cis.rit.edu')\n",
      "New Classes: [0, 1, 2, 3, 4]\n",
      "Poisoned Classes: []\n"
     ]
    },
    {
     "name": "stderr",
     "output_type": "stream",
     "text": [
      "[ 12-29 | 14:38 ] Task 1 | epoch 0\n",
      "\n",
      "Metrics for 1 task(s): \t [Class-IL Acc]: 48.8 % \t [Task-IL Acc]: 48.8 %\n",
      "\n"
     ]
    },
    {
     "name": "stdout",
     "output_type": "stream",
     "text": [
      "New Classes: [5, 6, 7, 8, 9]\n",
      "Poisoned Classes: []\n"
     ]
    },
    {
     "name": "stderr",
     "output_type": "stream",
     "text": [
      "[ 12-29 | 14:38 ] Task 2 | epoch 0\n",
      "\n",
      "Metrics for 2 task(s): \t [Class-IL Acc]: 25.5 % \t [Task-IL Acc]: 47.4 %\n",
      "\n"
     ]
    },
    {
     "name": "stdout",
     "output_type": "stream",
     "text": [
      "New Classes: [10, 11, 12, 13, 14]\n",
      "Poisoned Classes: []\n"
     ]
    },
    {
     "name": "stderr",
     "output_type": "stream",
     "text": [
      "[ 12-29 | 14:38 ] Task 3 | epoch 0\n",
      "\n",
      "Metrics for 3 task(s): \t [Class-IL Acc]: 16.13 % \t [Task-IL Acc]: 49.33 %\n",
      "\n"
     ]
    },
    {
     "name": "stdout",
     "output_type": "stream",
     "text": [
      "New Classes: [15, 16, 17, 18, 19]\n",
      "Poisoned Classes: []\n"
     ]
    },
    {
     "name": "stderr",
     "output_type": "stream",
     "text": [
      "[ 12-29 | 14:38 ] Task 4 | epoch 0\n",
      "\n",
      "Metrics for 4 task(s): \t [Class-IL Acc]: 17.2 % \t [Task-IL Acc]: 49.4 %\n",
      "\n"
     ]
    },
    {
     "name": "stdout",
     "output_type": "stream",
     "text": [
      "New Classes: [20, 21, 22, 23, 24]\n",
      "Poisoned Classes: []\n"
     ]
    },
    {
     "name": "stderr",
     "output_type": "stream",
     "text": [
      "[ 12-29 | 14:38 ] Task 5 | epoch 0\n",
      "\n",
      "Metrics for 5 task(s): \t [Class-IL Acc]: 15.4 % \t [Task-IL Acc]: 54.44 %\n",
      "\n"
     ]
    },
    {
     "name": "stdout",
     "output_type": "stream",
     "text": [
      "New Classes: [25, 26, 27, 28, 29]\n",
      "Poisoned Classes: []\n"
     ]
    },
    {
     "name": "stderr",
     "output_type": "stream",
     "text": [
      "[ 12-29 | 14:38 ] Task 6 | epoch 0\n",
      "\n",
      "Metrics for 6 task(s): \t [Class-IL Acc]: 11.07 % \t [Task-IL Acc]: 54.63 %\n",
      "\n"
     ]
    },
    {
     "name": "stdout",
     "output_type": "stream",
     "text": [
      "New Classes: [30, 31, 32, 33, 34]\n",
      "Poisoned Classes: []\n"
     ]
    },
    {
     "name": "stderr",
     "output_type": "stream",
     "text": [
      "[ 12-29 | 14:38 ] Task 7 | epoch 0\n",
      "\n",
      "Metrics for 7 task(s): \t [Class-IL Acc]: 10.97 % \t [Task-IL Acc]: 53.14 %\n",
      "\n"
     ]
    },
    {
     "name": "stdout",
     "output_type": "stream",
     "text": [
      "New Classes: [35, 36, 37, 38, 39]\n",
      "Poisoned Classes: []\n"
     ]
    },
    {
     "name": "stderr",
     "output_type": "stream",
     "text": [
      "[ 12-29 | 14:39 ] Task 8 | epoch 0\n",
      "\n",
      "Metrics for 8 task(s): \t [Class-IL Acc]: 10.48 % \t [Task-IL Acc]: 55.3 %\n",
      "\n"
     ]
    },
    {
     "name": "stdout",
     "output_type": "stream",
     "text": [
      "New Classes: [40, 41, 42, 43, 44]\n",
      "Poisoned Classes: []\n"
     ]
    },
    {
     "name": "stderr",
     "output_type": "stream",
     "text": [
      "[ 12-29 | 14:39 ] Task 9 | epoch 0\n",
      "\n",
      "Metrics for 9 task(s): \t [Class-IL Acc]: 9.62 % \t [Task-IL Acc]: 55.07 %\n",
      "\n"
     ]
    },
    {
     "name": "stdout",
     "output_type": "stream",
     "text": [
      "New Classes: [45, 46, 47, 48, 49]\n",
      "Poisoned Classes: []\n"
     ]
    },
    {
     "name": "stderr",
     "output_type": "stream",
     "text": [
      "[ 12-29 | 14:39 ] Task 10 | epoch 0\n",
      "\n",
      "Metrics for 10 task(s): \t [Class-IL Acc]: 8.68 % \t [Task-IL Acc]: 52.08 %\n",
      "\n"
     ]
    },
    {
     "name": "stdout",
     "output_type": "stream",
     "text": [
      "New Classes: [50, 51, 52, 53, 54]\n",
      "Poisoned Classes: [0, 1, 2, 3, 4, 5, 6, 7, 8, 9, 10, 11, 12, 13, 14, 15, 16, 17, 18, 19, 20, 21, 22, 23, 24, 25, 26, 27, 28, 29, 30, 31, 32, 33, 34, 35, 36, 37, 38, 39, 40, 41, 42, 43, 44, 45, 46, 47, 48, 49]\n"
     ]
    },
    {
     "name": "stderr",
     "output_type": "stream",
     "text": [
      "[ 12-29 | 14:39 ] Task 11 | epoch 0\n",
      "\n",
      "Metrics for 11 task(s): \t [Class-IL Acc]: 8.42 % \t [Task-IL Acc]: 54.73 %\n",
      "\n"
     ]
    },
    {
     "name": "stdout",
     "output_type": "stream",
     "text": [
      "New Classes: [55, 56, 57, 58, 59]\n",
      "Poisoned Classes: []\n"
     ]
    },
    {
     "name": "stderr",
     "output_type": "stream",
     "text": [
      "[ 12-29 | 14:39 ] Task 12 | epoch 0\n",
      "\n",
      "Metrics for 12 task(s): \t [Class-IL Acc]: 6.17 % \t [Task-IL Acc]: 51.43 %\n",
      "\n"
     ]
    },
    {
     "name": "stdout",
     "output_type": "stream",
     "text": [
      "New Classes: [60, 61, 62, 63, 64]\n",
      "Poisoned Classes: []\n"
     ]
    },
    {
     "name": "stderr",
     "output_type": "stream",
     "text": [
      "[ 12-29 | 14:39 ] Task 13 | epoch 0\n",
      "\n",
      "Metrics for 13 task(s): \t [Class-IL Acc]: 8.2 % \t [Task-IL Acc]: 53.78 %\n",
      "\n"
     ]
    },
    {
     "name": "stdout",
     "output_type": "stream",
     "text": [
      "New Classes: [65, 66, 67, 68, 69]\n",
      "Poisoned Classes: []\n"
     ]
    },
    {
     "name": "stderr",
     "output_type": "stream",
     "text": [
      "[ 12-29 | 14:39 ] Task 14 | epoch 0\n",
      "\n",
      "Metrics for 14 task(s): \t [Class-IL Acc]: 5.94 % \t [Task-IL Acc]: 49.43 %\n",
      "\n"
     ]
    },
    {
     "name": "stdout",
     "output_type": "stream",
     "text": [
      "New Classes: [70, 71, 72, 73, 74]\n",
      "Poisoned Classes: []\n"
     ]
    },
    {
     "name": "stderr",
     "output_type": "stream",
     "text": [
      "[ 12-29 | 14:39 ] Task 15 | epoch 0\n",
      "\n",
      "Metrics for 15 task(s): \t [Class-IL Acc]: 5.64 % \t [Task-IL Acc]: 54.04 %\n",
      "\n"
     ]
    },
    {
     "name": "stdout",
     "output_type": "stream",
     "text": [
      "New Classes: [75, 76, 77, 78, 79]\n",
      "Poisoned Classes: []\n"
     ]
    },
    {
     "name": "stderr",
     "output_type": "stream",
     "text": [
      "[ 12-29 | 14:40 ] Task 16 | epoch 0\n",
      "\n",
      "Metrics for 16 task(s): \t [Class-IL Acc]: 4.31 % \t [Task-IL Acc]: 52.9 %\n",
      "\n"
     ]
    },
    {
     "name": "stdout",
     "output_type": "stream",
     "text": [
      "New Classes: [80, 81, 82, 83, 84]\n",
      "Poisoned Classes: []\n"
     ]
    },
    {
     "name": "stderr",
     "output_type": "stream",
     "text": [
      "[ 12-29 | 14:40 ] Task 17 | epoch 0\n",
      "\n",
      "Metrics for 17 task(s): \t [Class-IL Acc]: 4.87 % \t [Task-IL Acc]: 52.6 %\n",
      "\n"
     ]
    },
    {
     "name": "stdout",
     "output_type": "stream",
     "text": [
      "New Classes: [85, 86, 87, 88, 89]\n",
      "Poisoned Classes: []\n"
     ]
    },
    {
     "name": "stderr",
     "output_type": "stream",
     "text": [
      "[ 12-29 | 14:40 ] Task 18 | epoch 0\n",
      "\n",
      "Metrics for 18 task(s): \t [Class-IL Acc]: 4.97 % \t [Task-IL Acc]: 54.0 %\n",
      "\n"
     ]
    },
    {
     "name": "stdout",
     "output_type": "stream",
     "text": [
      "New Classes: [90, 91, 92, 93, 94]\n",
      "Poisoned Classes: []\n"
     ]
    },
    {
     "name": "stderr",
     "output_type": "stream",
     "text": [
      "[ 12-29 | 14:40 ] Task 19 | epoch 0\n",
      "\n",
      "Metrics for 19 task(s): \t [Class-IL Acc]: 5.23 % \t [Task-IL Acc]: 54.93 %\n",
      "\n"
     ]
    },
    {
     "name": "stdout",
     "output_type": "stream",
     "text": [
      "New Classes: [95, 96, 97, 98, 99]\n",
      "Poisoned Classes: []\n"
     ]
    },
    {
     "name": "stderr",
     "output_type": "stream",
     "text": [
      "[ 12-29 | 14:40 ] Task 20 | epoch 0\n",
      "\n",
      "Metrics for 20 task(s): \t [Class-IL Acc]: 3.69 % \t [Task-IL Acc]: 52.66 %\n",
      "\n"
     ]
    },
    {
     "name": "stdout",
     "output_type": "stream",
     "text": [
      "Creating poisonings at tasks:  [10]\n",
      "Creating poisonings at tasks:  [10]\n",
      "Creating poisonings at tasks:  [10]\n",
      "Creating poisonings at tasks:  [10]\n",
      "Creating poisonings at tasks:  [10]\n",
      "Namespace(dataset='seq-cifar100-label-poisoning', model='xder', n_epochs=1, nowand=1, non_verbose=1, ignore_other_metrics=1, seed=42, n_label_flip_poisonings=1, poisoning_severity=5, classes_per_poisoning=0, buffer_mode='reservoir', n_image_poisonings=None, debug_mode=0, disable_log=0, batch_size=128, minibatch_size=128, buffer_size=200, label_flip_percentage=0, m=0.7, alpha=0.3, beta=0.8, gamma=0.85, optim_wd=0, lambd=0.05, eta=0.001, lr=0.03, simclr_temp=5, optim_mom=0, simclr_batch_size=64, simclr_num_aug=2, conf_jobnum='25ea5a4f-6789-4393-b6df-1fc7087fcc7b', conf_timestamp='2024-12-29 14:40:45.848043', conf_host='rankine.cis.rit.edu', start_from=0)\n",
      "New Classes: [0, 1, 2, 3, 4]\n",
      "Poisoned Classes: []\n"
     ]
    },
    {
     "name": "stderr",
     "output_type": "stream",
     "text": [
      "\n",
      "[ 12-29 | 14:40 ] Task 1 | epoch 0\n",
      "\n",
      "Metrics for 1 task(s): \t [Class-IL Acc]: 28.6 % \t [Task-IL Acc]: 28.8 %\n",
      "\n"
     ]
    },
    {
     "name": "stdout",
     "output_type": "stream",
     "text": [
      "New Classes: [5, 6, 7, 8, 9]\n",
      "Poisoned Classes: []\n"
     ]
    },
    {
     "name": "stderr",
     "output_type": "stream",
     "text": [
      "[ 12-29 | 14:40 ] Task 2 | epoch 0\n",
      "\n",
      "Metrics for 2 task(s): \t [Class-IL Acc]: 29.2 % \t [Task-IL Acc]: 48.5 %\n",
      "\n"
     ]
    },
    {
     "name": "stdout",
     "output_type": "stream",
     "text": [
      "New Classes: [10, 11, 12, 13, 14]\n",
      "Poisoned Classes: []\n"
     ]
    },
    {
     "name": "stderr",
     "output_type": "stream",
     "text": [
      "[ 12-29 | 14:41 ] Task 3 | epoch 0\n",
      "\n",
      "Metrics for 3 task(s): \t [Class-IL Acc]: 27.53 % \t [Task-IL Acc]: 48.0 %\n",
      "\n"
     ]
    },
    {
     "name": "stdout",
     "output_type": "stream",
     "text": [
      "New Classes: [15, 16, 17, 18, 19]\n",
      "Poisoned Classes: []\n"
     ]
    },
    {
     "name": "stderr",
     "output_type": "stream",
     "text": [
      "[ 12-29 | 14:41 ] Task 4 | epoch 0\n",
      "\n",
      "Metrics for 4 task(s): \t [Class-IL Acc]: 27.5 % \t [Task-IL Acc]: 56.0 %\n",
      "\n"
     ]
    },
    {
     "name": "stdout",
     "output_type": "stream",
     "text": [
      "New Classes: [20, 21, 22, 23, 24]\n",
      "Poisoned Classes: []\n"
     ]
    },
    {
     "name": "stderr",
     "output_type": "stream",
     "text": [
      "[ 12-29 | 14:41 ] Task 5 | epoch 0\n",
      "\n",
      "Metrics for 5 task(s): \t [Class-IL Acc]: 22.4 % \t [Task-IL Acc]: 53.24 %\n",
      "\n"
     ]
    },
    {
     "name": "stdout",
     "output_type": "stream",
     "text": [
      "New Classes: [25, 26, 27, 28, 29]\n",
      "Poisoned Classes: []\n"
     ]
    },
    {
     "name": "stderr",
     "output_type": "stream",
     "text": [
      "[ 12-29 | 14:41 ] Task 6 | epoch 0\n",
      "\n",
      "Metrics for 6 task(s): \t [Class-IL Acc]: 19.03 % \t [Task-IL Acc]: 49.97 %\n",
      "\n"
     ]
    },
    {
     "name": "stdout",
     "output_type": "stream",
     "text": [
      "New Classes: [30, 31, 32, 33, 34]\n",
      "Poisoned Classes: []\n"
     ]
    },
    {
     "name": "stderr",
     "output_type": "stream",
     "text": [
      "[ 12-29 | 14:41 ] Task 7 | epoch 0\n",
      "\n",
      "Metrics for 7 task(s): \t [Class-IL Acc]: 17.91 % \t [Task-IL Acc]: 53.11 %\n",
      "\n"
     ]
    },
    {
     "name": "stdout",
     "output_type": "stream",
     "text": [
      "New Classes: [35, 36, 37, 38, 39]\n",
      "Poisoned Classes: []\n"
     ]
    },
    {
     "name": "stderr",
     "output_type": "stream",
     "text": [
      "[ 12-29 | 14:41 ] Task 8 | epoch 0\n",
      "\n",
      "Metrics for 8 task(s): \t [Class-IL Acc]: 18.08 % \t [Task-IL Acc]: 54.75 %\n",
      "\n"
     ]
    },
    {
     "name": "stdout",
     "output_type": "stream",
     "text": [
      "New Classes: [40, 41, 42, 43, 44]\n",
      "Poisoned Classes: []\n"
     ]
    },
    {
     "name": "stderr",
     "output_type": "stream",
     "text": [
      "[ 12-29 | 14:42 ] Task 9 | epoch 0\n",
      "\n",
      "Metrics for 9 task(s): \t [Class-IL Acc]: 17.71 % \t [Task-IL Acc]: 53.98 %\n",
      "\n"
     ]
    },
    {
     "name": "stdout",
     "output_type": "stream",
     "text": [
      "New Classes: [45, 46, 47, 48, 49]\n",
      "Poisoned Classes: []\n"
     ]
    },
    {
     "name": "stderr",
     "output_type": "stream",
     "text": [
      "[ 12-29 | 14:42 ] Task 10 | epoch 0\n",
      "\n",
      "Metrics for 10 task(s): \t [Class-IL Acc]: 15.7 % \t [Task-IL Acc]: 55.36 %\n",
      "\n"
     ]
    },
    {
     "name": "stdout",
     "output_type": "stream",
     "text": [
      "New Classes: [50, 51, 52, 53, 54]\n",
      "Poisoned Classes: [0, 1, 2, 3, 4, 5, 6, 7, 8, 9, 10, 11, 12, 13, 14, 15, 16, 17, 18, 19, 20, 21, 22, 23, 24, 25, 26, 27, 28, 29, 30, 31, 32, 33, 34, 35, 36, 37, 38, 39, 40, 41, 42, 43, 44, 45, 46, 47, 48, 49]\n"
     ]
    },
    {
     "name": "stderr",
     "output_type": "stream",
     "text": [
      "[ 12-29 | 14:42 ] Task 11 | epoch 0\n",
      "\n",
      "Metrics for 11 task(s): \t [Class-IL Acc]: 13.93 % \t [Task-IL Acc]: 53.62 %\n",
      "\n"
     ]
    },
    {
     "name": "stdout",
     "output_type": "stream",
     "text": [
      "New Classes: [55, 56, 57, 58, 59]\n",
      "Poisoned Classes: []\n"
     ]
    },
    {
     "name": "stderr",
     "output_type": "stream",
     "text": [
      "[ 12-29 | 14:42 ] Task 12 | epoch 0\n",
      "\n",
      "Metrics for 12 task(s): \t [Class-IL Acc]: 15.15 % \t [Task-IL Acc]: 55.78 %\n",
      "\n"
     ]
    },
    {
     "name": "stdout",
     "output_type": "stream",
     "text": [
      "New Classes: [60, 61, 62, 63, 64]\n",
      "Poisoned Classes: []\n"
     ]
    },
    {
     "name": "stderr",
     "output_type": "stream",
     "text": [
      "[ 12-29 | 14:42 ] Task 13 | epoch 0\n",
      "\n",
      "Metrics for 13 task(s): \t [Class-IL Acc]: 14.09 % \t [Task-IL Acc]: 57.45 %\n",
      "\n"
     ]
    },
    {
     "name": "stdout",
     "output_type": "stream",
     "text": [
      "New Classes: [65, 66, 67, 68, 69]\n",
      "Poisoned Classes: []\n"
     ]
    },
    {
     "name": "stderr",
     "output_type": "stream",
     "text": [
      "[ 12-29 | 14:43 ] Task 14 | epoch 0\n",
      "\n",
      "Metrics for 14 task(s): \t [Class-IL Acc]: 14.4 % \t [Task-IL Acc]: 55.97 %\n",
      "\n"
     ]
    },
    {
     "name": "stdout",
     "output_type": "stream",
     "text": [
      "New Classes: [70, 71, 72, 73, 74]\n",
      "Poisoned Classes: []\n"
     ]
    },
    {
     "name": "stderr",
     "output_type": "stream",
     "text": [
      "[ 12-29 | 14:43 ] Task 15 | epoch 0\n",
      "\n",
      "Metrics for 15 task(s): \t [Class-IL Acc]: 11.51 % \t [Task-IL Acc]: 56.4 %\n",
      "\n"
     ]
    },
    {
     "name": "stdout",
     "output_type": "stream",
     "text": [
      "New Classes: [75, 76, 77, 78, 79]\n",
      "Poisoned Classes: []\n"
     ]
    },
    {
     "name": "stderr",
     "output_type": "stream",
     "text": [
      "[ 12-29 | 14:43 ] Task 16 | epoch 0\n",
      "\n",
      "Metrics for 16 task(s): \t [Class-IL Acc]: 11.0 % \t [Task-IL Acc]: 55.99 %\n",
      "\n"
     ]
    },
    {
     "name": "stdout",
     "output_type": "stream",
     "text": [
      "New Classes: [80, 81, 82, 83, 84]\n",
      "Poisoned Classes: []\n"
     ]
    },
    {
     "name": "stderr",
     "output_type": "stream",
     "text": [
      "[ 12-29 | 14:43 ] Task 17 | epoch 0\n",
      "\n",
      "Metrics for 17 task(s): \t [Class-IL Acc]: 9.85 % \t [Task-IL Acc]: 55.66 %\n",
      "\n"
     ]
    },
    {
     "name": "stdout",
     "output_type": "stream",
     "text": [
      "New Classes: [85, 86, 87, 88, 89]\n",
      "Poisoned Classes: []\n"
     ]
    },
    {
     "name": "stderr",
     "output_type": "stream",
     "text": [
      "[ 12-29 | 14:43 ] Task 18 | epoch 0\n",
      "\n",
      "Metrics for 18 task(s): \t [Class-IL Acc]: 11.41 % \t [Task-IL Acc]: 58.39 %\n",
      "\n"
     ]
    },
    {
     "name": "stdout",
     "output_type": "stream",
     "text": [
      "New Classes: [90, 91, 92, 93, 94]\n",
      "Poisoned Classes: []\n"
     ]
    },
    {
     "name": "stderr",
     "output_type": "stream",
     "text": [
      "[ 12-29 | 14:44 ] Task 19 | epoch 0\n",
      "\n",
      "Metrics for 19 task(s): \t [Class-IL Acc]: 11.13 % \t [Task-IL Acc]: 56.02 %\n",
      "\n"
     ]
    },
    {
     "name": "stdout",
     "output_type": "stream",
     "text": [
      "New Classes: [95, 96, 97, 98, 99]\n",
      "Poisoned Classes: []\n"
     ]
    },
    {
     "name": "stderr",
     "output_type": "stream",
     "text": [
      "[ 12-29 | 14:44 ] Task 20 | epoch 0\n",
      "\n",
      "Metrics for 20 task(s): \t [Class-IL Acc]: 10.06 % \t [Task-IL Acc]: 55.9 %\n",
      "\n",
      "\n"
     ]
    },
    {
     "name": "stdout",
     "output_type": "stream",
     "text": [
      "Creating poisonings at tasks:  [10]\n",
      "Creating poisonings at tasks:  [10]\n",
      "Creating poisonings at tasks:  [10]\n",
      "Namespace(dataset='seq-cifar100-label-poisoning', model='er_ace', n_epochs=1, nowand=1, non_verbose=1, ignore_other_metrics=1, seed=42, n_label_flip_poisonings=1, poisoning_severity=5, classes_per_poisoning=0, buffer_mode='reservoir', n_image_poisonings=None, debug_mode=0, disable_log=0, batch_size=128, minibatch_size=128, buffer_size=200, label_flip_percentage=0, lr=0.03, optim_mom=0, optim_wd=0, conf_jobnum='276379e8-928b-4615-a615-a9b020a2e05f', conf_timestamp='2024-12-29 14:44:30.940902', conf_host='rankine.cis.rit.edu')\n",
      "New Classes: [0, 1, 2, 3, 4]\n",
      "Poisoned Classes: []\n"
     ]
    },
    {
     "name": "stderr",
     "output_type": "stream",
     "text": [
      "[ 12-29 | 14:44 ] Task 1 | epoch 0\n",
      "\n",
      "Metrics for 1 task(s): \t [Class-IL Acc]: 21.8 % \t [Task-IL Acc]: 21.8 %\n",
      "\n"
     ]
    },
    {
     "name": "stdout",
     "output_type": "stream",
     "text": [
      "New Classes: [5, 6, 7, 8, 9]\n",
      "Poisoned Classes: []\n"
     ]
    },
    {
     "name": "stderr",
     "output_type": "stream",
     "text": [
      "[ 12-29 | 14:44 ] Task 2 | epoch 0\n",
      "\n",
      "Metrics for 2 task(s): \t [Class-IL Acc]: 37.8 % \t [Task-IL Acc]: 53.2 %\n",
      "\n"
     ]
    },
    {
     "name": "stdout",
     "output_type": "stream",
     "text": [
      "New Classes: [10, 11, 12, 13, 14]\n",
      "Poisoned Classes: []\n"
     ]
    },
    {
     "name": "stderr",
     "output_type": "stream",
     "text": [
      "[ 12-29 | 14:44 ] Task 3 | epoch 0\n",
      "\n",
      "Metrics for 3 task(s): \t [Class-IL Acc]: 21.93 % \t [Task-IL Acc]: 46.53 %\n",
      "\n"
     ]
    },
    {
     "name": "stdout",
     "output_type": "stream",
     "text": [
      "New Classes: [15, 16, 17, 18, 19]\n",
      "Poisoned Classes: []\n"
     ]
    },
    {
     "name": "stderr",
     "output_type": "stream",
     "text": [
      "[ 12-29 | 14:44 ] Task 4 | epoch 0\n",
      "\n",
      "Metrics for 4 task(s): \t [Class-IL Acc]: 23.5 % \t [Task-IL Acc]: 54.6 %\n",
      "\n"
     ]
    },
    {
     "name": "stdout",
     "output_type": "stream",
     "text": [
      "New Classes: [20, 21, 22, 23, 24]\n",
      "Poisoned Classes: []\n"
     ]
    },
    {
     "name": "stderr",
     "output_type": "stream",
     "text": [
      "[ 12-29 | 14:44 ] Task 5 | epoch 0\n",
      "\n",
      "Metrics for 5 task(s): \t [Class-IL Acc]: 19.8 % \t [Task-IL Acc]: 50.36 %\n",
      "\n"
     ]
    },
    {
     "name": "stdout",
     "output_type": "stream",
     "text": [
      "New Classes: [25, 26, 27, 28, 29]\n",
      "Poisoned Classes: []\n"
     ]
    },
    {
     "name": "stderr",
     "output_type": "stream",
     "text": [
      "[ 12-29 | 14:44 ] Task 6 | epoch 0\n",
      "\n",
      "Metrics for 6 task(s): \t [Class-IL Acc]: 18.17 % \t [Task-IL Acc]: 51.6 %\n",
      "\n"
     ]
    },
    {
     "name": "stdout",
     "output_type": "stream",
     "text": [
      "New Classes: [30, 31, 32, 33, 34]\n",
      "Poisoned Classes: []\n"
     ]
    },
    {
     "name": "stderr",
     "output_type": "stream",
     "text": [
      "[ 12-29 | 14:44 ] Task 7 | epoch 0\n",
      "\n",
      "Metrics for 7 task(s): \t [Class-IL Acc]: 18.31 % \t [Task-IL Acc]: 52.51 %\n",
      "\n"
     ]
    },
    {
     "name": "stdout",
     "output_type": "stream",
     "text": [
      "New Classes: [35, 36, 37, 38, 39]\n",
      "Poisoned Classes: []\n"
     ]
    },
    {
     "name": "stderr",
     "output_type": "stream",
     "text": [
      "[ 12-29 | 14:45 ] Task 8 | epoch 0\n",
      "\n",
      "Metrics for 8 task(s): \t [Class-IL Acc]: 14.22 % \t [Task-IL Acc]: 48.68 %\n",
      "\n"
     ]
    },
    {
     "name": "stdout",
     "output_type": "stream",
     "text": [
      "New Classes: [40, 41, 42, 43, 44]\n",
      "Poisoned Classes: []\n"
     ]
    },
    {
     "name": "stderr",
     "output_type": "stream",
     "text": [
      "[ 12-29 | 14:45 ] Task 9 | epoch 0\n",
      "\n",
      "Metrics for 9 task(s): \t [Class-IL Acc]: 15.67 % \t [Task-IL Acc]: 53.09 %\n",
      "\n"
     ]
    },
    {
     "name": "stdout",
     "output_type": "stream",
     "text": [
      "New Classes: [45, 46, 47, 48, 49]\n",
      "Poisoned Classes: []\n"
     ]
    },
    {
     "name": "stderr",
     "output_type": "stream",
     "text": [
      "[ 12-29 | 14:45 ] Task 10 | epoch 0\n",
      "\n",
      "Metrics for 10 task(s): \t [Class-IL Acc]: 11.94 % \t [Task-IL Acc]: 48.06 %\n",
      "\n"
     ]
    },
    {
     "name": "stdout",
     "output_type": "stream",
     "text": [
      "New Classes: [50, 51, 52, 53, 54]\n",
      "Poisoned Classes: [0, 1, 2, 3, 4, 5, 6, 7, 8, 9, 10, 11, 12, 13, 14, 15, 16, 17, 18, 19, 20, 21, 22, 23, 24, 25, 26, 27, 28, 29, 30, 31, 32, 33, 34, 35, 36, 37, 38, 39, 40, 41, 42, 43, 44, 45, 46, 47, 48, 49]\n"
     ]
    },
    {
     "name": "stderr",
     "output_type": "stream",
     "text": [
      "[ 12-29 | 14:45 ] Task 11 | epoch 0\n",
      "\n",
      "Metrics for 11 task(s): \t [Class-IL Acc]: 13.35 % \t [Task-IL Acc]: 52.96 %\n",
      "\n"
     ]
    },
    {
     "name": "stdout",
     "output_type": "stream",
     "text": [
      "New Classes: [55, 56, 57, 58, 59]\n",
      "Poisoned Classes: []\n"
     ]
    },
    {
     "name": "stderr",
     "output_type": "stream",
     "text": [
      "[ 12-29 | 14:45 ] Task 12 | epoch 0\n",
      "\n",
      "Metrics for 12 task(s): \t [Class-IL Acc]: 14.25 % \t [Task-IL Acc]: 53.38 %\n",
      "\n"
     ]
    },
    {
     "name": "stdout",
     "output_type": "stream",
     "text": [
      "New Classes: [60, 61, 62, 63, 64]\n",
      "Poisoned Classes: []\n"
     ]
    },
    {
     "name": "stderr",
     "output_type": "stream",
     "text": [
      "[ 12-29 | 14:45 ] Task 13 | epoch 0\n",
      "\n",
      "Metrics for 13 task(s): \t [Class-IL Acc]: 13.74 % \t [Task-IL Acc]: 54.72 %\n",
      "\n"
     ]
    },
    {
     "name": "stdout",
     "output_type": "stream",
     "text": [
      "New Classes: [65, 66, 67, 68, 69]\n",
      "Poisoned Classes: []\n"
     ]
    },
    {
     "name": "stderr",
     "output_type": "stream",
     "text": [
      "[ 12-29 | 14:45 ] Task 14 | epoch 0\n",
      "\n",
      "Metrics for 14 task(s): \t [Class-IL Acc]: 11.49 % \t [Task-IL Acc]: 51.69 %\n",
      "\n"
     ]
    },
    {
     "name": "stdout",
     "output_type": "stream",
     "text": [
      "New Classes: [70, 71, 72, 73, 74]\n",
      "Poisoned Classes: []\n"
     ]
    },
    {
     "name": "stderr",
     "output_type": "stream",
     "text": [
      "[ 12-29 | 14:45 ] Task 15 | epoch 0\n",
      "\n",
      "Metrics for 15 task(s): \t [Class-IL Acc]: 11.0 % \t [Task-IL Acc]: 53.6 %\n",
      "\n"
     ]
    },
    {
     "name": "stdout",
     "output_type": "stream",
     "text": [
      "New Classes: [75, 76, 77, 78, 79]\n",
      "Poisoned Classes: []\n"
     ]
    },
    {
     "name": "stderr",
     "output_type": "stream",
     "text": [
      "[ 12-29 | 14:45 ] Task 16 | epoch 0\n",
      "\n",
      "Metrics for 16 task(s): \t [Class-IL Acc]: 10.78 % \t [Task-IL Acc]: 52.19 %\n",
      "\n"
     ]
    },
    {
     "name": "stdout",
     "output_type": "stream",
     "text": [
      "New Classes: [80, 81, 82, 83, 84]\n",
      "Poisoned Classes: []\n"
     ]
    },
    {
     "name": "stderr",
     "output_type": "stream",
     "text": [
      "[ 12-29 | 14:46 ] Task 17 | epoch 0\n",
      "\n",
      "Metrics for 17 task(s): \t [Class-IL Acc]: 11.29 % \t [Task-IL Acc]: 55.21 %\n",
      "\n"
     ]
    },
    {
     "name": "stdout",
     "output_type": "stream",
     "text": [
      "New Classes: [85, 86, 87, 88, 89]\n",
      "Poisoned Classes: []\n"
     ]
    },
    {
     "name": "stderr",
     "output_type": "stream",
     "text": [
      "[ 12-29 | 14:46 ] Task 18 | epoch 0\n",
      "\n",
      "Metrics for 18 task(s): \t [Class-IL Acc]: 10.8 % \t [Task-IL Acc]: 54.73 %\n",
      "\n"
     ]
    },
    {
     "name": "stdout",
     "output_type": "stream",
     "text": [
      "New Classes: [90, 91, 92, 93, 94]\n",
      "Poisoned Classes: []\n"
     ]
    },
    {
     "name": "stderr",
     "output_type": "stream",
     "text": [
      "[ 12-29 | 14:46 ] Task 19 | epoch 0\n",
      "\n",
      "Metrics for 19 task(s): \t [Class-IL Acc]: 8.44 % \t [Task-IL Acc]: 52.65 %\n",
      "\n"
     ]
    },
    {
     "name": "stdout",
     "output_type": "stream",
     "text": [
      "New Classes: [95, 96, 97, 98, 99]\n",
      "Poisoned Classes: []\n"
     ]
    },
    {
     "name": "stderr",
     "output_type": "stream",
     "text": [
      "[ 12-29 | 14:46 ] Task 20 | epoch 0\n",
      "\n",
      "Metrics for 20 task(s): \t [Class-IL Acc]: 8.34 % \t [Task-IL Acc]: 53.58 %\n",
      "\n"
     ]
    }
   ],
   "source": [
    "import itertools\n",
    "import argparse\n",
    "\n",
    "models = [\"er\", \"der\", \"derpp\", \"xder\", \"er_ace\"]\n",
    "buffer_sizes = [200]#[200, 500, 2000, 5000]\n",
    "label_flip_percentages = [0]#[0, 25, 50, 75]\n",
    "\n",
    "for buffer_size, model, label_flip_percentage in itertools.product(buffer_sizes, models, label_flip_percentages):\n",
    "    args_dict = dict(\n",
    "        dataset='seq-cifar100-label-poisoning',\n",
    "        model=model,\n",
    "        n_epochs=1,\n",
    "        nowand=1,\n",
    "        non_verbose=1,\n",
    "        ignore_other_metrics=1,\n",
    "        seed=42,\n",
    "        n_label_flip_poisonings=1,\n",
    "        poisoning_severity=5,\n",
    "        classes_per_poisoning=0,\n",
    "        buffer_mode=\"reservoir\",\n",
    "        n_image_poisonings=None, # fails without this\n",
    "        debug_mode=0, # fails without this\n",
    "        disable_log=0, # fails without this\n",
    "        batch_size=128, # not in best args\n",
    "        minibatch_size=128, # not in best args\n",
    "        buffer_size=buffer_size,\n",
    "        label_flip_percentage=label_flip_percentage\n",
    "    )\n",
    "\n",
    "    if buffer_size == 200:\n",
    "        bs_config = 500\n",
    "    elif buffer_size == 5000:\n",
    "        bs_config = 2000\n",
    "    else:\n",
    "        bs_config = buffer_size\n",
    "\n",
    "    optim_params = best_args['seq-cifar100'][model][bs_config]\n",
    "    args_dict.update(optim_params)\n",
    "    args = argparse.Namespace(**args_dict)\n",
    "    file = f\"results/label_poison/cifar_{model}_{buffer_size}_{label_flip_percentage}_(5-20).json\"\n",
    "    main(args, file)"
   ]
  },
  {
   "cell_type": "code",
   "execution_count": 7,
   "metadata": {},
   "outputs": [
    {
     "name": "stderr",
     "output_type": "stream",
     "text": [
      "0it [00:00, ?it/s]\n"
     ]
    },
    {
     "name": "stdout",
     "output_type": "stream",
     "text": [
      "Namespace(seed=None, notes=None, non_verbose=1, disable_log=0, validation=0, ignore_other_metrics=1, debug_mode=0, nowand=1, wandb_entity='regaz', wandb_project='mammoth', dataset='seq-cifar100-label-poisoning', model='der', lr=0.1, optim_wd=0.0, optim_mom=0.0, optim_nesterov=0, n_epochs=50, batch_size=32, distributed='no', n_image_poisonings=None, image_poisoning_type=None, n_label_flip_poisonings=None, label_flip_percentage=None, poisoning_severity=1, classes_per_poisoning=0, buffer_size=5000, minibatch_size=32, buffer_mode='reservoir', conf_host='rankine.cis.rit.edu', use_best_args=1, alpha=0.1, conf_jobnum='3bceac65-f3c6-47e0-850f-011335a57607', conf_timestamp='2024-12-29 12:50:21.373578')\n"
     ]
    },
    {
     "name": "stderr",
     "output_type": "stream",
     "text": [
      "/home/aa5264/Desktop/CL-Mammoth/venv/lib/python3.10/site-packages/torch/optim/lr_scheduler.py:28: UserWarning: The verbose parameter is deprecated. Please use get_last_lr() to access the learning rate.\n",
      "  warnings.warn(\"The verbose parameter is deprecated. Please use get_last_lr() \"\n",
      "[ 12-29 | 12:50 ] Task 1 | epoch 0\n",
      "[ 12-29 | 12:50 ] Task 1 | epoch 1\n",
      "[ 12-29 | 12:50 ] Task 1 | epoch 2\n",
      "[ 12-29 | 12:50 ] Task 1 | epoch 3\n",
      "[ 12-29 | 12:50 ] Task 1 | epoch 4\n",
      "[ 12-29 | 12:50 ] Task 1 | epoch 5\n",
      "[ 12-29 | 12:50 ] Task 1 | epoch 6\n",
      "[ 12-29 | 12:50 ] Task 1 | epoch 7\n",
      "[ 12-29 | 12:50 ] Task 1 | epoch 8\n",
      "[ 12-29 | 12:50 ] Task 1 | epoch 9\n",
      "[ 12-29 | 12:50 ] Task 1 | epoch 10\n",
      "[ 12-29 | 12:50 ] Task 1 | epoch 11\n",
      "[ 12-29 | 12:50 ] Task 1 | epoch 12\n",
      "[ 12-29 | 12:50 ] Task 1 | epoch 13\n",
      "[ 12-29 | 12:51 ] Task 1 | epoch 14\n",
      "[ 12-29 | 12:51 ] Task 1 | epoch 15\n",
      "[ 12-29 | 12:51 ] Task 1 | epoch 16\n",
      "[ 12-29 | 12:51 ] Task 1 | epoch 17\n",
      "[ 12-29 | 12:51 ] Task 1 | epoch 18\n",
      "[ 12-29 | 12:51 ] Task 1 | epoch 19\n",
      "[ 12-29 | 12:51 ] Task 1 | epoch 20\n",
      "[ 12-29 | 12:51 ] Task 1 | epoch 21\n",
      "[ 12-29 | 12:51 ] Task 1 | epoch 22\n",
      "[ 12-29 | 12:51 ] Task 1 | epoch 23\n",
      "[ 12-29 | 12:51 ] Task 1 | epoch 24\n",
      "[ 12-29 | 12:51 ] Task 1 | epoch 25\n",
      "[ 12-29 | 12:51 ] Task 1 | epoch 26\n",
      "[ 12-29 | 12:51 ] Task 1 | epoch 27\n",
      "[ 12-29 | 12:51 ] Task 1 | epoch 28\n",
      "[ 12-29 | 12:51 ] Task 1 | epoch 29\n",
      "[ 12-29 | 12:51 ] Task 1 | epoch 30\n",
      "[ 12-29 | 12:51 ] Task 1 | epoch 31\n",
      "[ 12-29 | 12:51 ] Task 1 | epoch 32\n",
      "[ 12-29 | 12:51 ] Task 1 | epoch 33\n",
      "[ 12-29 | 12:51 ] Task 1 | epoch 34\n",
      "[ 12-29 | 12:51 ] Task 1 | epoch 35\n",
      "[ 12-29 | 12:51 ] Task 1 | epoch 36\n",
      "0it [01:39, ?it/s]\n"
     ]
    },
    {
     "ename": "KeyboardInterrupt",
     "evalue": "",
     "output_type": "error",
     "traceback": [
      "\u001b[0;31m---------------------------------------------------------------------------\u001b[0m",
      "\u001b[0;31mKeyboardInterrupt\u001b[0m                         Traceback (most recent call last)",
      "Cell \u001b[0;32mIn[7], line 45\u001b[0m\n\u001b[1;32m      5\u001b[0m args \u001b[38;5;241m=\u001b[39m argparse\u001b[38;5;241m.\u001b[39mNamespace(\n\u001b[1;32m      6\u001b[0m     seed\u001b[38;5;241m=\u001b[39m\u001b[38;5;28;01mNone\u001b[39;00m,\n\u001b[1;32m      7\u001b[0m     notes\u001b[38;5;241m=\u001b[39m\u001b[38;5;28;01mNone\u001b[39;00m,\n\u001b[0;32m   (...)\u001b[0m\n\u001b[1;32m     38\u001b[0m     alpha\u001b[38;5;241m=\u001b[39m\u001b[38;5;241m0.1\u001b[39m\n\u001b[1;32m     39\u001b[0m )\n\u001b[1;32m     41\u001b[0m log_filename \u001b[38;5;241m=\u001b[39m (\n\u001b[1;32m     42\u001b[0m     \u001b[38;5;124mf\u001b[39m\u001b[38;5;124m\"\u001b[39m\u001b[38;5;124mresults/Task-Poisoning/\u001b[39m\u001b[38;5;132;01m{\u001b[39;00mdatetime\u001b[38;5;241m.\u001b[39mdatetime\u001b[38;5;241m.\u001b[39mnow()\u001b[38;5;241m.\u001b[39mstrftime(\u001b[38;5;124m'\u001b[39m\u001b[38;5;124m%\u001b[39m\u001b[38;5;124mm-\u001b[39m\u001b[38;5;132;01m%d\u001b[39;00m\u001b[38;5;124m-\u001b[39m\u001b[38;5;124m%\u001b[39m\u001b[38;5;124my-\u001b[39m\u001b[38;5;124m%\u001b[39m\u001b[38;5;124mH-\u001b[39m\u001b[38;5;124m%\u001b[39m\u001b[38;5;124mM-\u001b[39m\u001b[38;5;124m%\u001b[39m\u001b[38;5;124mS\u001b[39m\u001b[38;5;124m'\u001b[39m)\u001b[38;5;132;01m}\u001b[39;00m\u001b[38;5;124m-\u001b[39m\u001b[38;5;132;01m{\u001b[39;00margs\u001b[38;5;241m.\u001b[39mdataset\u001b[38;5;132;01m}\u001b[39;00m\u001b[38;5;124m-\u001b[39m\u001b[38;5;132;01m{\u001b[39;00margs\u001b[38;5;241m.\u001b[39mmodel\u001b[38;5;132;01m}\u001b[39;00m\u001b[38;5;124m-buf-\u001b[39m\u001b[38;5;132;01m{\u001b[39;00margs\u001b[38;5;241m.\u001b[39mbuffer_size\u001b[38;5;132;01m}\u001b[39;00m\u001b[38;5;124m-severity-\u001b[39m\u001b[38;5;132;01m{\u001b[39;00margs\u001b[38;5;241m.\u001b[39mpoisoning_severity\u001b[38;5;132;01m}\u001b[39;00m\u001b[38;5;124m-cpp-\u001b[39m\u001b[38;5;132;01m{\u001b[39;00margs\u001b[38;5;241m.\u001b[39mclasses_per_poisoning\u001b[38;5;132;01m}\u001b[39;00m\u001b[38;5;124m\"\u001b[39m\n\u001b[1;32m     43\u001b[0m     \u001b[38;5;124mf\u001b[39m\u001b[38;5;124m\"\u001b[39m\u001b[38;5;132;01m{\u001b[39;00m\u001b[38;5;124m'\u001b[39m\u001b[38;5;124m-poisoning-type-\u001b[39m\u001b[38;5;124m'\u001b[39m\u001b[38;5;250m \u001b[39m\u001b[38;5;241m+\u001b[39m\u001b[38;5;250m \u001b[39m\u001b[38;5;28mstr\u001b[39m(args\u001b[38;5;241m.\u001b[39mimage_poisoning_type)\u001b[38;5;250m \u001b[39m\u001b[38;5;28;01mif\u001b[39;00m\u001b[38;5;250m \u001b[39margs\u001b[38;5;241m.\u001b[39mn_image_poisonings\u001b[38;5;250m \u001b[39m\u001b[38;5;129;01mis\u001b[39;00m\u001b[38;5;250m \u001b[39m\u001b[38;5;129;01mnot\u001b[39;00m\u001b[38;5;250m \u001b[39m\u001b[38;5;28;01mNone\u001b[39;00m\u001b[38;5;250m \u001b[39m\u001b[38;5;28;01melse\u001b[39;00m\u001b[38;5;250m \u001b[39m\u001b[38;5;124m'\u001b[39m\u001b[38;5;124m-poisoning-percentage-\u001b[39m\u001b[38;5;124m'\u001b[39m\u001b[38;5;250m \u001b[39m\u001b[38;5;241m+\u001b[39m\u001b[38;5;250m \u001b[39m\u001b[38;5;28mstr\u001b[39m(args\u001b[38;5;241m.\u001b[39mlabel_flip_percentage)\u001b[38;5;250m \u001b[39m\u001b[38;5;28;01mif\u001b[39;00m\u001b[38;5;250m \u001b[39margs\u001b[38;5;241m.\u001b[39mn_label_flip_poisonings\u001b[38;5;250m \u001b[39m\u001b[38;5;129;01mis\u001b[39;00m\u001b[38;5;250m \u001b[39m\u001b[38;5;129;01mnot\u001b[39;00m\u001b[38;5;250m \u001b[39m\u001b[38;5;28;01mNone\u001b[39;00m\u001b[38;5;250m \u001b[39m\u001b[38;5;28;01melse\u001b[39;00m\u001b[38;5;250m \u001b[39m\u001b[38;5;124m'\u001b[39m\u001b[38;5;124m-no-poisoning\u001b[39m\u001b[38;5;124m'\u001b[39m\u001b[38;5;132;01m}\u001b[39;00m\u001b[38;5;124m.json\u001b[39m\u001b[38;5;124m\"\u001b[39m\n\u001b[1;32m     44\u001b[0m )\n\u001b[0;32m---> 45\u001b[0m \u001b[43mmain\u001b[49m\u001b[43m(\u001b[49m\u001b[43margs\u001b[49m\u001b[43m,\u001b[49m\u001b[43m \u001b[49m\u001b[43mlog_filename\u001b[49m\u001b[43m)\u001b[49m\n",
      "Cell \u001b[0;32mIn[2], line 35\u001b[0m, in \u001b[0;36mmain\u001b[0;34m(args, log_filename)\u001b[0m\n\u001b[1;32m     32\u001b[0m setproctitle\u001b[38;5;241m.\u001b[39msetproctitle(\u001b[38;5;124m'\u001b[39m\u001b[38;5;132;01m{}\u001b[39;00m\u001b[38;5;124m_\u001b[39m\u001b[38;5;132;01m{}\u001b[39;00m\u001b[38;5;124m_\u001b[39m\u001b[38;5;132;01m{}\u001b[39;00m\u001b[38;5;124m'\u001b[39m\u001b[38;5;241m.\u001b[39mformat(args\u001b[38;5;241m.\u001b[39mmodel, args\u001b[38;5;241m.\u001b[39mbuffer_size \u001b[38;5;28;01mif\u001b[39;00m \u001b[38;5;124m'\u001b[39m\u001b[38;5;124mbuffer_size\u001b[39m\u001b[38;5;124m'\u001b[39m \u001b[38;5;129;01min\u001b[39;00m args \u001b[38;5;28;01melse\u001b[39;00m \u001b[38;5;241m0\u001b[39m, args\u001b[38;5;241m.\u001b[39mdataset))\n\u001b[1;32m     34\u001b[0m \u001b[38;5;28;01mif\u001b[39;00m \u001b[38;5;28misinstance\u001b[39m(dataset, ContinualDataset):\n\u001b[0;32m---> 35\u001b[0m     \u001b[43mtrain\u001b[49m\u001b[43m(\u001b[49m\u001b[43mmodel\u001b[49m\u001b[43m,\u001b[49m\u001b[43m \u001b[49m\u001b[43mdataset\u001b[49m\u001b[43m,\u001b[49m\u001b[43m \u001b[49m\u001b[43margs\u001b[49m\u001b[43m,\u001b[49m\u001b[43m \u001b[49m\u001b[43mlog_filename\u001b[49m\u001b[43m)\u001b[49m\n\u001b[1;32m     36\u001b[0m \u001b[38;5;28;01melse\u001b[39;00m:\n\u001b[1;32m     37\u001b[0m     \u001b[38;5;28;01massert\u001b[39;00m \u001b[38;5;129;01mnot\u001b[39;00m \u001b[38;5;28mhasattr\u001b[39m(model, \u001b[38;5;124m'\u001b[39m\u001b[38;5;124mend_task\u001b[39m\u001b[38;5;124m'\u001b[39m) \u001b[38;5;129;01mor\u001b[39;00m model\u001b[38;5;241m.\u001b[39mNAME \u001b[38;5;241m==\u001b[39m \u001b[38;5;124m'\u001b[39m\u001b[38;5;124mjoint_gcl\u001b[39m\u001b[38;5;124m'\u001b[39m\n",
      "File \u001b[0;32m~/repos/CL-Task-Poisoning/utils/training.py:166\u001b[0m, in \u001b[0;36mtrain\u001b[0;34m(model, dataset, args, log_filename)\u001b[0m\n\u001b[1;32m    164\u001b[0m     loss \u001b[38;5;241m=\u001b[39m model\u001b[38;5;241m.\u001b[39mmeta_observe(inputs, labels, not_aug_inputs, logits)\n\u001b[1;32m    165\u001b[0m \u001b[38;5;28;01melse\u001b[39;00m:\n\u001b[0;32m--> 166\u001b[0m     loss \u001b[38;5;241m=\u001b[39m \u001b[43mmodel\u001b[49m\u001b[38;5;241;43m.\u001b[39;49m\u001b[43mmeta_observe\u001b[49m\u001b[43m(\u001b[49m\u001b[43minputs\u001b[49m\u001b[43m,\u001b[49m\u001b[43m \u001b[49m\u001b[43mlabels\u001b[49m\u001b[43m,\u001b[49m\u001b[43m \u001b[49m\u001b[43mnot_aug_inputs\u001b[49m\u001b[43m)\u001b[49m\n\u001b[1;32m    167\u001b[0m \u001b[38;5;28;01massert\u001b[39;00m \u001b[38;5;129;01mnot\u001b[39;00m math\u001b[38;5;241m.\u001b[39misnan(loss)\n\u001b[1;32m    168\u001b[0m progress_bar\u001b[38;5;241m.\u001b[39mprog(i, \u001b[38;5;28mlen\u001b[39m(train_loader), epoch, t, loss)\n",
      "File \u001b[0;32m~/repos/CL-Task-Poisoning/models/utils/continual_model.py:58\u001b[0m, in \u001b[0;36mContinualModel.meta_observe\u001b[0;34m(self, *args, **kwargs)\u001b[0m\n\u001b[1;32m     56\u001b[0m     \u001b[38;5;28mself\u001b[39m\u001b[38;5;241m.\u001b[39mautolog_wandb(pl\u001b[38;5;241m.\u001b[39mlocals)\n\u001b[1;32m     57\u001b[0m \u001b[38;5;28;01melse\u001b[39;00m:\n\u001b[0;32m---> 58\u001b[0m     ret \u001b[38;5;241m=\u001b[39m \u001b[38;5;28;43mself\u001b[39;49m\u001b[38;5;241;43m.\u001b[39;49m\u001b[43mobserve\u001b[49m\u001b[43m(\u001b[49m\u001b[38;5;241;43m*\u001b[39;49m\u001b[43margs\u001b[49m\u001b[43m,\u001b[49m\u001b[43m \u001b[49m\u001b[38;5;241;43m*\u001b[39;49m\u001b[38;5;241;43m*\u001b[39;49m\u001b[43mkwargs\u001b[49m\u001b[43m)\u001b[49m\n\u001b[1;32m     59\u001b[0m \u001b[38;5;28;01mreturn\u001b[39;00m ret\n",
      "File \u001b[0;32m~/repos/CL-Task-Poisoning/models/der.py:40\u001b[0m, in \u001b[0;36mDer.observe\u001b[0;34m(self, inputs, labels, not_aug_inputs)\u001b[0m\n\u001b[1;32m     37\u001b[0m loss \u001b[38;5;241m=\u001b[39m \u001b[38;5;28mself\u001b[39m\u001b[38;5;241m.\u001b[39mloss(outputs, labels)\n\u001b[1;32m     39\u001b[0m \u001b[38;5;28;01mif\u001b[39;00m \u001b[38;5;129;01mnot\u001b[39;00m \u001b[38;5;28mself\u001b[39m\u001b[38;5;241m.\u001b[39mbuffer\u001b[38;5;241m.\u001b[39mis_empty():\n\u001b[0;32m---> 40\u001b[0m     buf_data \u001b[38;5;241m=\u001b[39m \u001b[38;5;28;43mself\u001b[39;49m\u001b[38;5;241;43m.\u001b[39;49m\u001b[43mbuffer\u001b[49m\u001b[38;5;241;43m.\u001b[39;49m\u001b[43mget_data\u001b[49m\u001b[43m(\u001b[49m\u001b[38;5;28;43mself\u001b[39;49m\u001b[38;5;241;43m.\u001b[39;49m\u001b[43margs\u001b[49m\u001b[38;5;241;43m.\u001b[39;49m\u001b[43mminibatch_size\u001b[49m\u001b[43m,\u001b[49m\u001b[43m \u001b[49m\u001b[43mtransform\u001b[49m\u001b[38;5;241;43m=\u001b[39;49m\u001b[38;5;28;43mself\u001b[39;49m\u001b[38;5;241;43m.\u001b[39;49m\u001b[43mtransform\u001b[49m\u001b[43m)\u001b[49m\n\u001b[1;32m     41\u001b[0m     buf_inputs, buf_logits \u001b[38;5;241m=\u001b[39m buf_data[\u001b[38;5;241m0\u001b[39m], buf_data[\u001b[38;5;241m1\u001b[39m]\n\u001b[1;32m     42\u001b[0m     buf_outputs \u001b[38;5;241m=\u001b[39m \u001b[38;5;28mself\u001b[39m\u001b[38;5;241m.\u001b[39mnet(buf_inputs)\n",
      "File \u001b[0;32m~/repos/CL-Task-Poisoning/utils/buffer.py:198\u001b[0m, in \u001b[0;36mBuffer.get_data\u001b[0;34m(self, size, transform, return_index)\u001b[0m\n\u001b[1;32m    196\u001b[0m \u001b[38;5;28;01mif\u001b[39;00m transform \u001b[38;5;129;01mis\u001b[39;00m \u001b[38;5;28;01mNone\u001b[39;00m:\n\u001b[1;32m    197\u001b[0m     \u001b[38;5;28;01mdef\u001b[39;00m \u001b[38;5;21mtransform\u001b[39m(x): \u001b[38;5;28;01mreturn\u001b[39;00m x\n\u001b[0;32m--> 198\u001b[0m ret_tuple \u001b[38;5;241m=\u001b[39m (torch\u001b[38;5;241m.\u001b[39mstack([transform(ee\u001b[38;5;241m.\u001b[39mcpu()) \u001b[38;5;28;01mfor\u001b[39;00m ee \u001b[38;5;129;01min\u001b[39;00m \u001b[38;5;28mself\u001b[39m\u001b[38;5;241m.\u001b[39mexamples[choice]])\u001b[38;5;241m.\u001b[39mto(\u001b[38;5;28mself\u001b[39m\u001b[38;5;241m.\u001b[39mdevice),)\n\u001b[1;32m    199\u001b[0m \u001b[38;5;28;01mfor\u001b[39;00m attr_str \u001b[38;5;129;01min\u001b[39;00m \u001b[38;5;28mself\u001b[39m\u001b[38;5;241m.\u001b[39mattributes[\u001b[38;5;241m1\u001b[39m:]:\n\u001b[1;32m    200\u001b[0m     \u001b[38;5;28;01mif\u001b[39;00m \u001b[38;5;28mhasattr\u001b[39m(\u001b[38;5;28mself\u001b[39m, attr_str):\n",
      "File \u001b[0;32m~/repos/CL-Task-Poisoning/utils/buffer.py:198\u001b[0m, in \u001b[0;36m<listcomp>\u001b[0;34m(.0)\u001b[0m\n\u001b[1;32m    196\u001b[0m \u001b[38;5;28;01mif\u001b[39;00m transform \u001b[38;5;129;01mis\u001b[39;00m \u001b[38;5;28;01mNone\u001b[39;00m:\n\u001b[1;32m    197\u001b[0m     \u001b[38;5;28;01mdef\u001b[39;00m \u001b[38;5;21mtransform\u001b[39m(x): \u001b[38;5;28;01mreturn\u001b[39;00m x\n\u001b[0;32m--> 198\u001b[0m ret_tuple \u001b[38;5;241m=\u001b[39m (torch\u001b[38;5;241m.\u001b[39mstack([\u001b[43mtransform\u001b[49m\u001b[43m(\u001b[49m\u001b[43mee\u001b[49m\u001b[38;5;241;43m.\u001b[39;49m\u001b[43mcpu\u001b[49m\u001b[43m(\u001b[49m\u001b[43m)\u001b[49m\u001b[43m)\u001b[49m \u001b[38;5;28;01mfor\u001b[39;00m ee \u001b[38;5;129;01min\u001b[39;00m \u001b[38;5;28mself\u001b[39m\u001b[38;5;241m.\u001b[39mexamples[choice]])\u001b[38;5;241m.\u001b[39mto(\u001b[38;5;28mself\u001b[39m\u001b[38;5;241m.\u001b[39mdevice),)\n\u001b[1;32m    199\u001b[0m \u001b[38;5;28;01mfor\u001b[39;00m attr_str \u001b[38;5;129;01min\u001b[39;00m \u001b[38;5;28mself\u001b[39m\u001b[38;5;241m.\u001b[39mattributes[\u001b[38;5;241m1\u001b[39m:]:\n\u001b[1;32m    200\u001b[0m     \u001b[38;5;28;01mif\u001b[39;00m \u001b[38;5;28mhasattr\u001b[39m(\u001b[38;5;28mself\u001b[39m, attr_str):\n",
      "File \u001b[0;32m/home/aa5264/Desktop/CL-Mammoth/venv/lib/python3.10/site-packages/torchvision/transforms/transforms.py:95\u001b[0m, in \u001b[0;36mCompose.__call__\u001b[0;34m(self, img)\u001b[0m\n\u001b[1;32m     93\u001b[0m \u001b[38;5;28;01mdef\u001b[39;00m \u001b[38;5;21m__call__\u001b[39m(\u001b[38;5;28mself\u001b[39m, img):\n\u001b[1;32m     94\u001b[0m     \u001b[38;5;28;01mfor\u001b[39;00m t \u001b[38;5;129;01min\u001b[39;00m \u001b[38;5;28mself\u001b[39m\u001b[38;5;241m.\u001b[39mtransforms:\n\u001b[0;32m---> 95\u001b[0m         img \u001b[38;5;241m=\u001b[39m \u001b[43mt\u001b[49m\u001b[43m(\u001b[49m\u001b[43mimg\u001b[49m\u001b[43m)\u001b[49m\n\u001b[1;32m     96\u001b[0m     \u001b[38;5;28;01mreturn\u001b[39;00m img\n",
      "File \u001b[0;32m/home/aa5264/Desktop/CL-Mammoth/venv/lib/python3.10/site-packages/torchvision/transforms/transforms.py:95\u001b[0m, in \u001b[0;36mCompose.__call__\u001b[0;34m(self, img)\u001b[0m\n\u001b[1;32m     93\u001b[0m \u001b[38;5;28;01mdef\u001b[39;00m \u001b[38;5;21m__call__\u001b[39m(\u001b[38;5;28mself\u001b[39m, img):\n\u001b[1;32m     94\u001b[0m     \u001b[38;5;28;01mfor\u001b[39;00m t \u001b[38;5;129;01min\u001b[39;00m \u001b[38;5;28mself\u001b[39m\u001b[38;5;241m.\u001b[39mtransforms:\n\u001b[0;32m---> 95\u001b[0m         img \u001b[38;5;241m=\u001b[39m \u001b[43mt\u001b[49m\u001b[43m(\u001b[49m\u001b[43mimg\u001b[49m\u001b[43m)\u001b[49m\n\u001b[1;32m     96\u001b[0m     \u001b[38;5;28;01mreturn\u001b[39;00m img\n",
      "File \u001b[0;32m/home/aa5264/Desktop/CL-Mammoth/venv/lib/python3.10/site-packages/torch/nn/modules/module.py:1532\u001b[0m, in \u001b[0;36mModule._wrapped_call_impl\u001b[0;34m(self, *args, **kwargs)\u001b[0m\n\u001b[1;32m   1530\u001b[0m     \u001b[38;5;28;01mreturn\u001b[39;00m \u001b[38;5;28mself\u001b[39m\u001b[38;5;241m.\u001b[39m_compiled_call_impl(\u001b[38;5;241m*\u001b[39margs, \u001b[38;5;241m*\u001b[39m\u001b[38;5;241m*\u001b[39mkwargs)  \u001b[38;5;66;03m# type: ignore[misc]\u001b[39;00m\n\u001b[1;32m   1531\u001b[0m \u001b[38;5;28;01melse\u001b[39;00m:\n\u001b[0;32m-> 1532\u001b[0m     \u001b[38;5;28;01mreturn\u001b[39;00m \u001b[38;5;28;43mself\u001b[39;49m\u001b[38;5;241;43m.\u001b[39;49m\u001b[43m_call_impl\u001b[49m\u001b[43m(\u001b[49m\u001b[38;5;241;43m*\u001b[39;49m\u001b[43margs\u001b[49m\u001b[43m,\u001b[49m\u001b[43m \u001b[49m\u001b[38;5;241;43m*\u001b[39;49m\u001b[38;5;241;43m*\u001b[39;49m\u001b[43mkwargs\u001b[49m\u001b[43m)\u001b[49m\n",
      "File \u001b[0;32m/home/aa5264/Desktop/CL-Mammoth/venv/lib/python3.10/site-packages/torch/nn/modules/module.py:1541\u001b[0m, in \u001b[0;36mModule._call_impl\u001b[0;34m(self, *args, **kwargs)\u001b[0m\n\u001b[1;32m   1536\u001b[0m \u001b[38;5;66;03m# If we don't have any hooks, we want to skip the rest of the logic in\u001b[39;00m\n\u001b[1;32m   1537\u001b[0m \u001b[38;5;66;03m# this function, and just call forward.\u001b[39;00m\n\u001b[1;32m   1538\u001b[0m \u001b[38;5;28;01mif\u001b[39;00m \u001b[38;5;129;01mnot\u001b[39;00m (\u001b[38;5;28mself\u001b[39m\u001b[38;5;241m.\u001b[39m_backward_hooks \u001b[38;5;129;01mor\u001b[39;00m \u001b[38;5;28mself\u001b[39m\u001b[38;5;241m.\u001b[39m_backward_pre_hooks \u001b[38;5;129;01mor\u001b[39;00m \u001b[38;5;28mself\u001b[39m\u001b[38;5;241m.\u001b[39m_forward_hooks \u001b[38;5;129;01mor\u001b[39;00m \u001b[38;5;28mself\u001b[39m\u001b[38;5;241m.\u001b[39m_forward_pre_hooks\n\u001b[1;32m   1539\u001b[0m         \u001b[38;5;129;01mor\u001b[39;00m _global_backward_pre_hooks \u001b[38;5;129;01mor\u001b[39;00m _global_backward_hooks\n\u001b[1;32m   1540\u001b[0m         \u001b[38;5;129;01mor\u001b[39;00m _global_forward_hooks \u001b[38;5;129;01mor\u001b[39;00m _global_forward_pre_hooks):\n\u001b[0;32m-> 1541\u001b[0m     \u001b[38;5;28;01mreturn\u001b[39;00m \u001b[43mforward_call\u001b[49m\u001b[43m(\u001b[49m\u001b[38;5;241;43m*\u001b[39;49m\u001b[43margs\u001b[49m\u001b[43m,\u001b[49m\u001b[43m \u001b[49m\u001b[38;5;241;43m*\u001b[39;49m\u001b[38;5;241;43m*\u001b[39;49m\u001b[43mkwargs\u001b[49m\u001b[43m)\u001b[49m\n\u001b[1;32m   1543\u001b[0m \u001b[38;5;28;01mtry\u001b[39;00m:\n\u001b[1;32m   1544\u001b[0m     result \u001b[38;5;241m=\u001b[39m \u001b[38;5;28;01mNone\u001b[39;00m\n",
      "File \u001b[0;32m/home/aa5264/Desktop/CL-Mammoth/venv/lib/python3.10/site-packages/torchvision/transforms/transforms.py:683\u001b[0m, in \u001b[0;36mRandomCrop.forward\u001b[0;34m(self, img)\u001b[0m\n\u001b[1;32m    679\u001b[0m     img \u001b[38;5;241m=\u001b[39m F\u001b[38;5;241m.\u001b[39mpad(img, padding, \u001b[38;5;28mself\u001b[39m\u001b[38;5;241m.\u001b[39mfill, \u001b[38;5;28mself\u001b[39m\u001b[38;5;241m.\u001b[39mpadding_mode)\n\u001b[1;32m    681\u001b[0m i, j, h, w \u001b[38;5;241m=\u001b[39m \u001b[38;5;28mself\u001b[39m\u001b[38;5;241m.\u001b[39mget_params(img, \u001b[38;5;28mself\u001b[39m\u001b[38;5;241m.\u001b[39msize)\n\u001b[0;32m--> 683\u001b[0m \u001b[38;5;28;01mreturn\u001b[39;00m \u001b[43mF\u001b[49m\u001b[38;5;241;43m.\u001b[39;49m\u001b[43mcrop\u001b[49m\u001b[43m(\u001b[49m\u001b[43mimg\u001b[49m\u001b[43m,\u001b[49m\u001b[43m \u001b[49m\u001b[43mi\u001b[49m\u001b[43m,\u001b[49m\u001b[43m \u001b[49m\u001b[43mj\u001b[49m\u001b[43m,\u001b[49m\u001b[43m \u001b[49m\u001b[43mh\u001b[49m\u001b[43m,\u001b[49m\u001b[43m \u001b[49m\u001b[43mw\u001b[49m\u001b[43m)\u001b[49m\n",
      "File \u001b[0;32m/home/aa5264/Desktop/CL-Mammoth/venv/lib/python3.10/site-packages/torchvision/transforms/functional.py:542\u001b[0m, in \u001b[0;36mcrop\u001b[0;34m(img, top, left, height, width)\u001b[0m\n\u001b[1;32m    540\u001b[0m     _log_api_usage_once(crop)\n\u001b[1;32m    541\u001b[0m \u001b[38;5;28;01mif\u001b[39;00m \u001b[38;5;129;01mnot\u001b[39;00m \u001b[38;5;28misinstance\u001b[39m(img, torch\u001b[38;5;241m.\u001b[39mTensor):\n\u001b[0;32m--> 542\u001b[0m     \u001b[38;5;28;01mreturn\u001b[39;00m \u001b[43mF_pil\u001b[49m\u001b[38;5;241;43m.\u001b[39;49m\u001b[43mcrop\u001b[49m\u001b[43m(\u001b[49m\u001b[43mimg\u001b[49m\u001b[43m,\u001b[49m\u001b[43m \u001b[49m\u001b[43mtop\u001b[49m\u001b[43m,\u001b[49m\u001b[43m \u001b[49m\u001b[43mleft\u001b[49m\u001b[43m,\u001b[49m\u001b[43m \u001b[49m\u001b[43mheight\u001b[49m\u001b[43m,\u001b[49m\u001b[43m \u001b[49m\u001b[43mwidth\u001b[49m\u001b[43m)\u001b[49m\n\u001b[1;32m    544\u001b[0m \u001b[38;5;28;01mreturn\u001b[39;00m F_t\u001b[38;5;241m.\u001b[39mcrop(img, top, left, height, width)\n",
      "File \u001b[0;32m/home/aa5264/Desktop/CL-Mammoth/venv/lib/python3.10/site-packages/torchvision/transforms/_functional_pil.py:235\u001b[0m, in \u001b[0;36mcrop\u001b[0;34m(img, top, left, height, width)\u001b[0m\n\u001b[1;32m    232\u001b[0m \u001b[38;5;28;01mif\u001b[39;00m \u001b[38;5;129;01mnot\u001b[39;00m _is_pil_image(img):\n\u001b[1;32m    233\u001b[0m     \u001b[38;5;28;01mraise\u001b[39;00m \u001b[38;5;167;01mTypeError\u001b[39;00m(\u001b[38;5;124mf\u001b[39m\u001b[38;5;124m\"\u001b[39m\u001b[38;5;124mimg should be PIL Image. Got \u001b[39m\u001b[38;5;132;01m{\u001b[39;00m\u001b[38;5;28mtype\u001b[39m(img)\u001b[38;5;132;01m}\u001b[39;00m\u001b[38;5;124m\"\u001b[39m)\n\u001b[0;32m--> 235\u001b[0m \u001b[38;5;28;01mreturn\u001b[39;00m \u001b[43mimg\u001b[49m\u001b[38;5;241;43m.\u001b[39;49m\u001b[43mcrop\u001b[49m\u001b[43m(\u001b[49m\u001b[43m(\u001b[49m\u001b[43mleft\u001b[49m\u001b[43m,\u001b[49m\u001b[43m \u001b[49m\u001b[43mtop\u001b[49m\u001b[43m,\u001b[49m\u001b[43m \u001b[49m\u001b[43mleft\u001b[49m\u001b[43m \u001b[49m\u001b[38;5;241;43m+\u001b[39;49m\u001b[43m \u001b[49m\u001b[43mwidth\u001b[49m\u001b[43m,\u001b[49m\u001b[43m \u001b[49m\u001b[43mtop\u001b[49m\u001b[43m \u001b[49m\u001b[38;5;241;43m+\u001b[39;49m\u001b[43m \u001b[49m\u001b[43mheight\u001b[49m\u001b[43m)\u001b[49m\u001b[43m)\u001b[49m\n",
      "File \u001b[0;32m/home/aa5264/Desktop/CL-Mammoth/venv/lib/python3.10/site-packages/PIL/Image.py:1220\u001b[0m, in \u001b[0;36mImage.crop\u001b[0;34m(self, box)\u001b[0m\n\u001b[1;32m   1217\u001b[0m     \u001b[38;5;28;01mraise\u001b[39;00m \u001b[38;5;167;01mValueError\u001b[39;00m(msg)\n\u001b[1;32m   1219\u001b[0m \u001b[38;5;28mself\u001b[39m\u001b[38;5;241m.\u001b[39mload()\n\u001b[0;32m-> 1220\u001b[0m \u001b[38;5;28;01mreturn\u001b[39;00m \u001b[38;5;28;43mself\u001b[39;49m\u001b[38;5;241;43m.\u001b[39;49m\u001b[43m_new\u001b[49m\u001b[43m(\u001b[49m\u001b[38;5;28;43mself\u001b[39;49m\u001b[38;5;241;43m.\u001b[39;49m\u001b[43m_crop\u001b[49m\u001b[43m(\u001b[49m\u001b[38;5;28;43mself\u001b[39;49m\u001b[38;5;241;43m.\u001b[39;49m\u001b[43mim\u001b[49m\u001b[43m,\u001b[49m\u001b[43m \u001b[49m\u001b[43mbox\u001b[49m\u001b[43m)\u001b[49m\u001b[43m)\u001b[49m\n",
      "File \u001b[0;32m/home/aa5264/Desktop/CL-Mammoth/venv/lib/python3.10/site-packages/PIL/Image.py:515\u001b[0m, in \u001b[0;36mImage._new\u001b[0;34m(self, im)\u001b[0m\n\u001b[1;32m    514\u001b[0m \u001b[38;5;28;01mdef\u001b[39;00m \u001b[38;5;21m_new\u001b[39m(\u001b[38;5;28mself\u001b[39m, im):\n\u001b[0;32m--> 515\u001b[0m     new \u001b[38;5;241m=\u001b[39m \u001b[43mImage\u001b[49m\u001b[43m(\u001b[49m\u001b[43m)\u001b[49m\n\u001b[1;32m    516\u001b[0m     new\u001b[38;5;241m.\u001b[39mim \u001b[38;5;241m=\u001b[39m im\n\u001b[1;32m    517\u001b[0m     new\u001b[38;5;241m.\u001b[39m_mode \u001b[38;5;241m=\u001b[39m im\u001b[38;5;241m.\u001b[39mmode\n",
      "\u001b[0;31mKeyboardInterrupt\u001b[0m: "
     ]
    }
   ],
   "source": [
    "import argparse\n",
    "from tqdm import tqdm\n",
    "\n",
    "for args in tqdm(argument_combinations(buffer_size, image_poisoning_type, label_flip_percentage)):\n",
    "    args = argparse.Namespace(\n",
    "        seed=None,\n",
    "        notes=None,\n",
    "        non_verbose=1,\n",
    "        disable_log=0,\n",
    "        validation=0,\n",
    "        ignore_other_metrics=1,\n",
    "        debug_mode=0,\n",
    "        nowand=1,\n",
    "        wandb_entity='regaz',\n",
    "        wandb_project='mammoth',\n",
    "        dataset='seq-cifar100-label-poisoning',\n",
    "        model='der',\n",
    "        lr=0.1,\n",
    "        optim_wd=0.0,\n",
    "        optim_mom=0.0,\n",
    "        optim_nesterov=0,\n",
    "        n_epochs=50,\n",
    "        batch_size=32,\n",
    "        distributed='no',\n",
    "        n_image_poisonings=None,\n",
    "        image_poisoning_type=None,\n",
    "        n_label_flip_poisonings=None, \n",
    "        label_flip_percentage=None,\n",
    "        poisoning_severity=1, \n",
    "        classes_per_poisoning=0, \n",
    "        buffer_size=5000, \n",
    "        minibatch_size=32, \n",
    "        buffer_mode='reservoir', #balanced\n",
    "        #conf_jobnum='80cc9790-1cc7-4ef5-b5b8-7a2574ca06f7', \n",
    "        #conf_timestamp='2024-12-28 17:53:09.485930', \n",
    "        conf_host='rankine.cis.rit.edu',\n",
    "        use_best_args=1,\n",
    "        alpha=0.1\n",
    "    )\n",
    "\n",
    "    log_filename = (\n",
    "        f\"results/Task-Poisoning/{datetime.datetime.now().strftime('%m-%d-%y-%H-%M-%S')}-{args.dataset}-{args.model}-buf-{args.buffer_size}-severity-{args.poisoning_severity}-cpp-{args.classes_per_poisoning}\"\n",
    "        f\"{'-poisoning-type-' + str(args.image_poisoning_type) if args.n_image_poisonings is not None else '-poisoning-percentage-' + str(args.label_flip_percentage) if args.n_label_flip_poisonings is not None else '-no-poisoning'}.json\"\n",
    "    )\n",
    "    main(args, log_filename)"
   ]
  },
  {
   "cell_type": "code",
   "execution_count": null,
   "metadata": {},
   "outputs": [],
   "source": []
  },
  {
   "cell_type": "code",
   "execution_count": 6,
   "metadata": {},
   "outputs": [
    {
     "ename": "AttributeError",
     "evalue": "'Namespace' object has no attribute 'poisoning_severity'",
     "output_type": "error",
     "traceback": [
      "\u001b[0;31m---------------------------------------------------------------------------\u001b[0m",
      "\u001b[0;31mAttributeError\u001b[0m                            Traceback (most recent call last)",
      "Cell \u001b[0;32mIn[6], line 4\u001b[0m\n\u001b[1;32m      1\u001b[0m \u001b[38;5;28;01mfrom\u001b[39;00m \u001b[38;5;21;01mdatetime\u001b[39;00m \u001b[38;5;28;01mimport\u001b[39;00m datetime\n\u001b[1;32m      3\u001b[0m log_filename \u001b[38;5;241m=\u001b[39m (\n\u001b[0;32m----> 4\u001b[0m         \u001b[38;5;124mf\u001b[39m\u001b[38;5;124m\"\u001b[39m\u001b[38;5;124mresults/Task-Poisoning/\u001b[39m\u001b[38;5;132;01m{\u001b[39;00mdatetime\u001b[38;5;241m.\u001b[39mnow()\u001b[38;5;241m.\u001b[39mstrftime(\u001b[38;5;124m'\u001b[39m\u001b[38;5;124m%\u001b[39m\u001b[38;5;124mm-\u001b[39m\u001b[38;5;132;01m%d\u001b[39;00m\u001b[38;5;124m-\u001b[39m\u001b[38;5;124m%\u001b[39m\u001b[38;5;124my-\u001b[39m\u001b[38;5;124m%\u001b[39m\u001b[38;5;124mH-\u001b[39m\u001b[38;5;124m%\u001b[39m\u001b[38;5;124mM-\u001b[39m\u001b[38;5;124m%\u001b[39m\u001b[38;5;124mS\u001b[39m\u001b[38;5;124m'\u001b[39m)\u001b[38;5;132;01m}\u001b[39;00m\u001b[38;5;124m-\u001b[39m\u001b[38;5;132;01m{\u001b[39;00margs\u001b[38;5;241m.\u001b[39mdataset\u001b[38;5;132;01m}\u001b[39;00m\u001b[38;5;124m-\u001b[39m\u001b[38;5;132;01m{\u001b[39;00margs\u001b[38;5;241m.\u001b[39mmodel\u001b[38;5;132;01m}\u001b[39;00m\u001b[38;5;124m-buf-\u001b[39m\u001b[38;5;132;01m{\u001b[39;00margs\u001b[38;5;241m.\u001b[39mbuffer_size\u001b[38;5;132;01m}\u001b[39;00m\u001b[38;5;124m-severity-\u001b[39m\u001b[38;5;132;01m{\u001b[39;00m\u001b[43margs\u001b[49m\u001b[38;5;241;43m.\u001b[39;49m\u001b[43mpoisoning_severity\u001b[49m\u001b[38;5;132;01m}\u001b[39;00m\u001b[38;5;124m-cpp-\u001b[39m\u001b[38;5;132;01m{\u001b[39;00margs\u001b[38;5;241m.\u001b[39mclasses_per_poisoning\u001b[38;5;132;01m}\u001b[39;00m\u001b[38;5;124m\"\u001b[39m\n\u001b[1;32m      5\u001b[0m         \u001b[38;5;124mf\u001b[39m\u001b[38;5;124m\"\u001b[39m\u001b[38;5;132;01m{\u001b[39;00m\u001b[38;5;124m'\u001b[39m\u001b[38;5;124m-poisoning-type-\u001b[39m\u001b[38;5;124m'\u001b[39m\u001b[38;5;250m \u001b[39m\u001b[38;5;241m+\u001b[39m\u001b[38;5;250m \u001b[39m\u001b[38;5;28mstr\u001b[39m(args\u001b[38;5;241m.\u001b[39mimage_poisoning_type)\u001b[38;5;250m \u001b[39m\u001b[38;5;28;01mif\u001b[39;00m\u001b[38;5;250m \u001b[39margs\u001b[38;5;241m.\u001b[39mn_image_poisonings\u001b[38;5;250m \u001b[39m\u001b[38;5;129;01mis\u001b[39;00m\u001b[38;5;250m \u001b[39m\u001b[38;5;129;01mnot\u001b[39;00m\u001b[38;5;250m \u001b[39m\u001b[38;5;28;01mNone\u001b[39;00m\u001b[38;5;250m \u001b[39m\u001b[38;5;28;01melse\u001b[39;00m\u001b[38;5;250m \u001b[39m\u001b[38;5;124m'\u001b[39m\u001b[38;5;124m-poisoning-percentage-\u001b[39m\u001b[38;5;124m'\u001b[39m\u001b[38;5;250m \u001b[39m\u001b[38;5;241m+\u001b[39m\u001b[38;5;250m \u001b[39m\u001b[38;5;28mstr\u001b[39m(args\u001b[38;5;241m.\u001b[39mlabel_flip_percentage)\u001b[38;5;250m \u001b[39m\u001b[38;5;28;01mif\u001b[39;00m\u001b[38;5;250m \u001b[39margs\u001b[38;5;241m.\u001b[39mn_label_flip_poisonings\u001b[38;5;250m \u001b[39m\u001b[38;5;129;01mis\u001b[39;00m\u001b[38;5;250m \u001b[39m\u001b[38;5;129;01mnot\u001b[39;00m\u001b[38;5;250m \u001b[39m\u001b[38;5;28;01mNone\u001b[39;00m\u001b[38;5;250m \u001b[39m\u001b[38;5;28;01melse\u001b[39;00m\u001b[38;5;250m \u001b[39m\u001b[38;5;124m'\u001b[39m\u001b[38;5;124m-no-poisoning\u001b[39m\u001b[38;5;124m'\u001b[39m\u001b[38;5;132;01m}\u001b[39;00m\u001b[38;5;124m.json\u001b[39m\u001b[38;5;124m\"\u001b[39m\n\u001b[1;32m      6\u001b[0m     )\n",
      "\u001b[0;31mAttributeError\u001b[0m: 'Namespace' object has no attribute 'poisoning_severity'"
     ]
    }
   ],
   "source": [
    "from datetime import datetime\n",
    "\n",
    "log_filename = (\n",
    "        f\"results/Task-Poisoning/{datetime.now().strftime('%m-%d-%y-%H-%M-%S')}-{args.dataset}-{args.model}-buf-{args.buffer_size}-severity-{args.poisoning_severity}-cpp-{args.classes_per_poisoning}\"\n",
    "        f\"{'-poisoning-type-' + str(args.image_poisoning_type) if args.n_image_poisonings is not None else '-poisoning-percentage-' + str(args.label_flip_percentage) if args.n_label_flip_poisonings is not None else '-no-poisoning'}.json\"\n",
    "    )"
   ]
  },
  {
   "cell_type": "code",
   "execution_count": 3,
   "metadata": {},
   "outputs": [],
   "source": [
    "import argparse\n",
    "\n",
    "# Create a Namespace instance\n",
    "args = argparse.Namespace()\n",
    "\n",
    "args.seed=None\n",
    "args.notes=None\n",
    "args.non_verbose=0\n",
    "args.disable_log=0\n",
    "args.validation=0\n",
    "args.ignore_other_metrics=1\n",
    "args.debug_mode=0\n",
    "args.nowand=1\n",
    "args.wandb_entity='regaz'\n",
    "args.wandb_project='mammoth'\n",
    "args.dataset='seq-cifar100'\n",
    "args.model='der'\n",
    "args.lr=0.01\n",
    "args.optim_wd=0.0\n",
    "args.optim_mom=0.0\n",
    "args.optim_nesterov=0\n",
    "args.n_epochs=50\n",
    "args.batch_size=32\n",
    "args.distributed='no'\n",
    "args.poisoning_type=1\n",
    "args.poisoning_severity=1\n",
    "args.n_slots=None\n",
    "args.n_poisonings=1\n",
    "args.max_classes_per_poisoning=5\n",
    "args.sequential_poisonings=False\n",
    "args.alpha=0.5\n",
    "args.softmax_temp=2\n",
    "args.buffer_size=5000\n",
    "args.n_past_poisonings = 1\n",
    "args.classes_per_poisoning=0\n"
   ]
  },
  {
   "cell_type": "code",
   "execution_count": 5,
   "metadata": {},
   "outputs": [],
   "source": [
    "import argparse\n",
    "\n",
    "# Create a Namespace instance\n",
    "args = argparse.Namespace()\n",
    "\n",
    "args.dataset=\"seq-cifar100-label-poisoning\"\n",
    "args.model=\"der\"\n",
    "args.n_epochs=50\n",
    "args.lr=0.1\n",
    "args.batch_size=32\n",
    "args.minibatch_size=32\n",
    "args.buffer_size=5000\n",
    "args.nowand=1\n",
    "args.non_verbose=1\n",
    "args.ignore_other_metrics=1 \n",
    "args.n_image_poisonings=0\n",
    "args.seed=42\n",
    "args.n_label_flip_poisonings=1\n",
    "args.classes_per_poisoning=0\n"
   ]
  },
  {
   "cell_type": "code",
   "execution_count": 24,
   "metadata": {},
   "outputs": [],
   "source": [
    "args = argparse.Namespace()\n",
    "\n",
    "args.dataset = \"seq-cifar100-label-poisoning\"\n",
    "args.model = \"er\"\n",
    "args.n_epochs = 50\n",
    "args.lr = 0.1\n",
    "args.batch_size = 32\n",
    "args.minibatch_size = 32\n",
    "args.buffer_size = 5000\n",
    "args.nowand = 1\n",
    "args.non_verbose = 1\n",
    "args.ignore_other_metrics = 1"
   ]
  },
  {
   "cell_type": "code",
   "execution_count": 29,
   "metadata": {},
   "outputs": [],
   "source": [
    "import itertools\n",
    "\n",
    "def argument_combinations(buffer_size, image_poisoning_type, label_flip_percentage):\n",
    "    \"\"\"\n",
    "    Generator that yields every combination of arguments.\n",
    "    \"\"\"\n",
    "    for combination in itertools.product(buffer_size, image_poisoning_type, label_flip_percentage):\n",
    "        yield {\n",
    "            \"buffer_size\": combination[0],\n",
    "            \"image_poisoning_type\": combination[1],\n",
    "            \"label_flip_percentage\": combination[2],\n",
    "        }\n",
    "\n",
    "buffer_size = [200, 500, 5000]\n",
    "image_poisoning_type = [0, 1, 2, 3, 4]\n",
    "label_flip_percentage = [25, 50, 75]"
   ]
  },
  {
   "cell_type": "code",
   "execution_count": 32,
   "metadata": {},
   "outputs": [
    {
     "name": "stdout",
     "output_type": "stream",
     "text": [
      "{'buffer_size': 200, 'image_poisoning_type': 0, 'label_flip_percentage': 25}\n",
      "{'buffer_size': 200, 'image_poisoning_type': 0, 'label_flip_percentage': 50}\n",
      "{'buffer_size': 200, 'image_poisoning_type': 0, 'label_flip_percentage': 75}\n",
      "{'buffer_size': 200, 'image_poisoning_type': 1, 'label_flip_percentage': 25}\n",
      "{'buffer_size': 200, 'image_poisoning_type': 1, 'label_flip_percentage': 50}\n",
      "{'buffer_size': 200, 'image_poisoning_type': 1, 'label_flip_percentage': 75}\n",
      "{'buffer_size': 200, 'image_poisoning_type': 2, 'label_flip_percentage': 25}\n",
      "{'buffer_size': 200, 'image_poisoning_type': 2, 'label_flip_percentage': 50}\n",
      "{'buffer_size': 200, 'image_poisoning_type': 2, 'label_flip_percentage': 75}\n",
      "{'buffer_size': 200, 'image_poisoning_type': 3, 'label_flip_percentage': 25}\n",
      "{'buffer_size': 200, 'image_poisoning_type': 3, 'label_flip_percentage': 50}\n",
      "{'buffer_size': 200, 'image_poisoning_type': 3, 'label_flip_percentage': 75}\n",
      "{'buffer_size': 200, 'image_poisoning_type': 4, 'label_flip_percentage': 25}\n",
      "{'buffer_size': 200, 'image_poisoning_type': 4, 'label_flip_percentage': 50}\n",
      "{'buffer_size': 200, 'image_poisoning_type': 4, 'label_flip_percentage': 75}\n",
      "{'buffer_size': 500, 'image_poisoning_type': 0, 'label_flip_percentage': 25}\n",
      "{'buffer_size': 500, 'image_poisoning_type': 0, 'label_flip_percentage': 50}\n",
      "{'buffer_size': 500, 'image_poisoning_type': 0, 'label_flip_percentage': 75}\n",
      "{'buffer_size': 500, 'image_poisoning_type': 1, 'label_flip_percentage': 25}\n",
      "{'buffer_size': 500, 'image_poisoning_type': 1, 'label_flip_percentage': 50}\n",
      "{'buffer_size': 500, 'image_poisoning_type': 1, 'label_flip_percentage': 75}\n",
      "{'buffer_size': 500, 'image_poisoning_type': 2, 'label_flip_percentage': 25}\n",
      "{'buffer_size': 500, 'image_poisoning_type': 2, 'label_flip_percentage': 50}\n",
      "{'buffer_size': 500, 'image_poisoning_type': 2, 'label_flip_percentage': 75}\n",
      "{'buffer_size': 500, 'image_poisoning_type': 3, 'label_flip_percentage': 25}\n",
      "{'buffer_size': 500, 'image_poisoning_type': 3, 'label_flip_percentage': 50}\n",
      "{'buffer_size': 500, 'image_poisoning_type': 3, 'label_flip_percentage': 75}\n",
      "{'buffer_size': 500, 'image_poisoning_type': 4, 'label_flip_percentage': 25}\n",
      "{'buffer_size': 500, 'image_poisoning_type': 4, 'label_flip_percentage': 50}\n",
      "{'buffer_size': 500, 'image_poisoning_type': 4, 'label_flip_percentage': 75}\n",
      "{'buffer_size': 5000, 'image_poisoning_type': 0, 'label_flip_percentage': 25}\n",
      "{'buffer_size': 5000, 'image_poisoning_type': 0, 'label_flip_percentage': 50}\n",
      "{'buffer_size': 5000, 'image_poisoning_type': 0, 'label_flip_percentage': 75}\n",
      "{'buffer_size': 5000, 'image_poisoning_type': 1, 'label_flip_percentage': 25}\n",
      "{'buffer_size': 5000, 'image_poisoning_type': 1, 'label_flip_percentage': 50}\n",
      "{'buffer_size': 5000, 'image_poisoning_type': 1, 'label_flip_percentage': 75}\n",
      "{'buffer_size': 5000, 'image_poisoning_type': 2, 'label_flip_percentage': 25}\n",
      "{'buffer_size': 5000, 'image_poisoning_type': 2, 'label_flip_percentage': 50}\n",
      "{'buffer_size': 5000, 'image_poisoning_type': 2, 'label_flip_percentage': 75}\n",
      "{'buffer_size': 5000, 'image_poisoning_type': 3, 'label_flip_percentage': 25}\n",
      "{'buffer_size': 5000, 'image_poisoning_type': 3, 'label_flip_percentage': 50}\n",
      "{'buffer_size': 5000, 'image_poisoning_type': 3, 'label_flip_percentage': 75}\n",
      "{'buffer_size': 5000, 'image_poisoning_type': 4, 'label_flip_percentage': 25}\n",
      "{'buffer_size': 5000, 'image_poisoning_type': 4, 'label_flip_percentage': 50}\n",
      "{'buffer_size': 5000, 'image_poisoning_type': 4, 'label_flip_percentage': 75}\n"
     ]
    }
   ],
   "source": [
    "i=0\n",
    "for args in argument_combinations(buffer_size, image_poisoning_type, label_flip_percentage):\n",
    "    print(args)\n",
    "    i+=1"
   ]
  },
  {
   "cell_type": "code",
   "execution_count": 34,
   "metadata": {},
   "outputs": [],
   "source": [
    "args = argparse.Namespace(\n",
    "    seed=None,\n",
    "    notes=None,\n",
    "    non_verbose=1,\n",
    "    disable_log=0,\n",
    "    validation=0,\n",
    "    ignore_other_metrics=1,\n",
    "    debug_mode=0,\n",
    "    nowand=1,\n",
    "    wandb_entity='regaz',\n",
    "    wandb_project='mammoth',\n",
    "    dataset='seq-cifar100-label-poisoning',\n",
    "    model='er',\n",
    "    lr=0.1,\n",
    "    optim_wd=0.0,\n",
    "    optim_mom=0.0,\n",
    "    optim_nesterov=0,\n",
    "    n_epochs=50,\n",
    "    batch_size=32,\n",
    "    distributed='no',\n",
    "    n_image_poisonings=None,\n",
    "    image_poisoning_type=None,\n",
    "    n_label_flip_poisonings=None, \n",
    "    label_flip_percentage=None,\n",
    "    poisoning_severity=1, \n",
    "    classes_per_poisoning=0, \n",
    "    buffer_size=5000, \n",
    "    minibatch_size=32, \n",
    "    buffer_mode='balanced', \n",
    "    #conf_jobnum='80cc9790-1cc7-4ef5-b5b8-7a2574ca06f7', \n",
    "    #conf_timestamp='2024-12-28 17:53:09.485930', \n",
    "    conf_host='rankine.cis.rit.edu'\n",
    ")"
   ]
  },
  {
   "cell_type": "code",
   "execution_count": 35,
   "metadata": {},
   "outputs": [
    {
     "name": "stdout",
     "output_type": "stream",
     "text": [
      "Namespace(seed=None, notes=None, non_verbose=1, disable_log=0, validation=0, ignore_other_metrics=1, debug_mode=0, nowand=1, wandb_entity='regaz', wandb_project='mammoth', dataset='seq-cifar100-label-poisoning', model='er', lr=0.1, optim_wd=0.0, optim_mom=0.0, optim_nesterov=0, n_epochs=2, batch_size=32, distributed='no', n_image_poisonings=None, image_poisoning_type=None, n_label_flip_poisonings=None, label_flip_percentage=None, poisoning_severity=1, classes_per_poisoning=0, buffer_size=5000, minibatch_size=32, buffer_mode='balanced', conf_host='rankine.cis.rit.edu', conf_jobnum='b5e6b21d-706c-402c-b0ea-c82726979e7d', conf_timestamp='2024-12-28 18:04:30.495114')\n"
     ]
    },
    {
     "name": "stderr",
     "output_type": "stream",
     "text": [
      "\n",
      "/home/aa5264/Desktop/CL-Mammoth/venv/lib/python3.10/site-packages/torch/optim/lr_scheduler.py:28: UserWarning: The verbose parameter is deprecated. Please use get_last_lr() to access the learning rate.\n",
      "  warnings.warn(\"The verbose parameter is deprecated. Please use get_last_lr() \"\n",
      "[ 12-28 | 18:04 ] Task 1 | epoch 0\n",
      "[ 12-28 | 18:04 ] Task 1 | epoch 1\n",
      "\n",
      "Metrics for 1 task(s): \t [Class-IL Acc]: 70.2 % \t [Task-IL Acc]: 70.2 %\n",
      "\n",
      "[ 12-28 | 18:04 ] Task 2 | epoch 0\n",
      "[ 12-28 | 18:04 ] Task 2 | epoch 1\n",
      "\n",
      "Metrics for 2 task(s): \t [Class-IL Acc]: 52.1 % \t [Task-IL Acc]: 64.9 %\n",
      "\n",
      "[ 12-28 | 18:04 ] Task 3 | epoch 0\n",
      "[ 12-28 | 18:04 ] Task 3 | epoch 1\n",
      "\n",
      "Metrics for 3 task(s): \t [Class-IL Acc]: 34.6 % \t [Task-IL Acc]: 60.07 %\n",
      "\n",
      "[ 12-28 | 18:05 ] Task 4 | epoch 0\n",
      "[ 12-28 | 18:05 ] Task 4 | epoch 1\n",
      "\n",
      "Metrics for 4 task(s): \t [Class-IL Acc]: 32.65 % \t [Task-IL Acc]: 60.85 %\n",
      "\n",
      "[ 12-28 | 18:05 ] Task 5 | epoch 0\n",
      "[ 12-28 | 18:05 ] Task 5 | epoch 1\n",
      "\n",
      "Metrics for 5 task(s): \t [Class-IL Acc]: 39.76 % \t [Task-IL Acc]: 67.72 %\n",
      "\n",
      "[ 12-28 | 18:05 ] Task 6 | epoch 0\n",
      "[ 12-28 | 18:05 ] Task 6 | epoch 1\n",
      "\n",
      "Metrics for 6 task(s): \t [Class-IL Acc]: 30.17 % \t [Task-IL Acc]: 64.73 %\n",
      "\n",
      "[ 12-28 | 18:05 ] Task 7 | epoch 0\n",
      "[ 12-28 | 18:05 ] Task 7 | epoch 1\n",
      "\n",
      "Metrics for 7 task(s): \t [Class-IL Acc]: 27.43 % \t [Task-IL Acc]: 59.8 %\n",
      "\n",
      "[ 12-28 | 18:05 ] Task 8 | epoch 0\n",
      "[ 12-28 | 18:05 ] Task 8 | epoch 1\n",
      "\n",
      "Metrics for 8 task(s): \t [Class-IL Acc]: 31.08 % \t [Task-IL Acc]: 69.68 %\n",
      "\n",
      "[ 12-28 | 18:06 ] Task 9 | epoch 0\n",
      "[ 12-28 | 18:06 ] Task 9 | epoch 1\n",
      "Exception ignored in: <function _releaseLock at 0x7f301a405ab0>\n",
      "Traceback (most recent call last):\n",
      "  File \"/usr/lib/python3.10/logging/__init__.py\", line 228, in _releaseLock\n",
      "    def _releaseLock():\n",
      "KeyboardInterrupt: \n",
      "\n",
      "Metrics for 9 task(s): \t [Class-IL Acc]: 27.22 % \t [Task-IL Acc]: 65.69 %\n",
      "\n",
      "[ 12-28 | 18:06 ] Task 10 | epoch 0\n",
      "[ 12-28 | 18:06 ] Task 10 | epoch 1\n"
     ]
    }
   ],
   "source": [
    "main(args)"
   ]
  },
  {
   "cell_type": "code",
   "execution_count": 5,
   "metadata": {},
   "outputs": [
    {
     "name": "stderr",
     "output_type": "stream",
     "text": [
      "usage: ipykernel_launcher.py [-h] --model\n",
      "                             {si,lucir,rpc,ewc_on,xder_ce,fdr,er,derpp,agem,er_ace,mer,gss,agem_r,joint,sgd,lwf_mc,gem,xder_rpc,joint_gcl,pnn,icarl,gdumb,bic,hal,lwf,der,xder}\n",
      "                             [--load_best_args] [--seed SEED] [--notes NOTES]\n",
      "                             [--non_verbose {0,1}] [--disable_log {0,1}]\n",
      "                             [--validation {0,1}]\n",
      "                             [--ignore_other_metrics {0,1}]\n",
      "                             [--debug_mode DEBUG_MODE] [--nowand {0,1}]\n",
      "                             [--wandb_entity WANDB_ENTITY]\n",
      "                             [--wandb_project WANDB_PROJECT]\n",
      "ipykernel_launcher.py: error: the following arguments are required: --model\n"
     ]
    },
    {
     "ename": "SystemExit",
     "evalue": "2",
     "output_type": "error",
     "traceback": [
      "An exception has occurred, use %tb to see the full traceback.\n",
      "\u001b[0;31mSystemExit\u001b[0m\u001b[0;31m:\u001b[0m 2\n"
     ]
    },
    {
     "name": "stderr",
     "output_type": "stream",
     "text": [
      "/home/aa5264/Desktop/CL-Mammoth/venv/lib/python3.10/site-packages/IPython/core/interactiveshell.py:3585: UserWarning: To exit: use 'exit', 'quit', or Ctrl-D.\n",
      "  warn(\"To exit: use 'exit', 'quit', or Ctrl-D.\", stacklevel=1)\n"
     ]
    }
   ],
   "source": [
    "\n",
    "def parse_args():\n",
    "    parser = ArgumentParser(description='mammoth', allow_abbrev=False)\n",
    "    parser.add_argument('--model', type=str, required=True,\n",
    "                        help='Model name.', choices=get_all_models())\n",
    "    parser.add_argument('--load_best_args', action='store_true',\n",
    "                        help='Loads the best arguments for each method, '\n",
    "                             'dataset and memory buffer.')\n",
    "    torch.set_num_threads(4)\n",
    "    add_management_args(parser)\n",
    "    args = parser.parse_known_args()[0]\n",
    "    mod = importlib.import_module('models.' + args.model)\n",
    "\n",
    "    if args.load_best_args:\n",
    "        parser.add_argument('--dataset', type=str, required=True,\n",
    "                            choices=DATASET_NAMES,\n",
    "                            help='Which dataset to perform experiments on.')\n",
    "        if hasattr(mod, 'Buffer'):\n",
    "            parser.add_argument('--buffer_size', type=int, required=True,\n",
    "                                help='The size of the memory buffer.')\n",
    "        args = parser.parse_args()\n",
    "        if args.model == 'joint':\n",
    "            best = best_args[args.dataset]['sgd']\n",
    "        else:\n",
    "            best = best_args[args.dataset][args.model]\n",
    "        if hasattr(mod, 'Buffer'):\n",
    "            best = best[args.buffer_size]\n",
    "        else:\n",
    "            best = best[-1]\n",
    "        get_parser = getattr(mod, 'get_parser')\n",
    "        parser = get_parser()\n",
    "        to_parse = sys.argv[1:] + ['--' + k + '=' + str(v) for k, v in best.items()]\n",
    "        to_parse.remove('--load_best_args')\n",
    "        args = parser.parse_args(to_parse)\n",
    "        if args.model == 'joint' and args.dataset == 'mnist-360':\n",
    "            args.model = 'joint_gcl'\n",
    "    else:\n",
    "        get_parser = getattr(mod, 'get_parser')\n",
    "        parser = get_parser()\n",
    "        args = parser.parse_args()\n",
    "\n",
    "    if args.seed is not None:\n",
    "        set_random_seed(args.seed)\n",
    "\n",
    "    return args\n",
    "\n",
    "\n",
    "def main(args=None):\n",
    "    lecun_fix()\n",
    "    if args is None:\n",
    "        args = parse_args()\n",
    "\n",
    "    os.putenv(\"MKL_SERVICE_FORCE_INTEL\", \"1\")\n",
    "    os.putenv(\"NPY_MKL_FORCE_INTEL\", \"1\")\n",
    "\n",
    "    # Add uuid, timestamp and hostname for logging\n",
    "    args.conf_jobnum = str(uuid.uuid4())\n",
    "    args.conf_timestamp = str(datetime.datetime.now())\n",
    "    args.conf_host = socket.gethostname()\n",
    "    dataset = get_dataset(args)\n",
    "\n",
    "    if args.n_epochs is None and isinstance(dataset, ContinualDataset):\n",
    "        args.n_epochs = dataset.get_epochs()\n",
    "    if args.batch_size is None:\n",
    "        args.batch_size = dataset.get_batch_size()\n",
    "    if hasattr(importlib.import_module('models.' + args.model), 'Buffer') and args.minibatch_size is None:\n",
    "        args.minibatch_size = dataset.get_minibatch_size()\n",
    "\n",
    "    backbone = dataset.get_backbone()\n",
    "    loss = dataset.get_loss()\n",
    "    model = get_model(args, backbone, loss, dataset.get_transform())\n",
    "\n",
    "    if args.distributed == 'dp':\n",
    "        model.net = make_dp(model.net)\n",
    "        model.to('cuda:0')\n",
    "        args.conf_ngpus = torch.cuda.device_count()\n",
    "    elif args.distributed == 'ddp':\n",
    "        # DDP breaks the buffer, it has to be synchronized.\n",
    "        raise NotImplementedError('Distributed Data Parallel not supported yet.')\n",
    "\n",
    "    if args.debug_mode:\n",
    "        args.nowand = 1\n",
    "\n",
    "    # set job name\n",
    "    setproctitle.setproctitle('{}_{}_{}'.format(args.model, args.buffer_size if 'buffer_size' in args else 0, args.dataset))\n",
    "\n",
    "    if isinstance(dataset, ContinualDataset):\n",
    "        train(model, dataset, args)\n",
    "    else:\n",
    "        assert not hasattr(model, 'end_task') or model.NAME == 'joint_gcl'\n",
    "        ctrain(args)\n",
    "\n",
    "\n",
    "if __name__ == '__main__':\n",
    "    main()\n"
   ]
  },
  {
   "cell_type": "code",
   "execution_count": 9,
   "metadata": {},
   "outputs": [],
   "source": [
    "def main(args=None):\n",
    "    os.putenv(\"MKL_SERVICE_FORCE_INTEL\", \"1\")\n",
    "    os.putenv(\"NPY_MKL_FORCE_INTEL\", \"1\")\n",
    "\n",
    "    # Add uuid, timestamp and hostname for logging\n",
    "    args.conf_jobnum = str(uuid.uuid4())\n",
    "    args.conf_timestamp = str(datetime.datetime.now())\n",
    "    args.conf_host = socket.gethostname()\n",
    "    dataset = get_dataset(args)\n",
    "\n",
    "    if args.n_epochs is None and isinstance(dataset, ContinualDataset):\n",
    "        args.n_epochs = 2#dataset.get_epochs()\n",
    "    if args.batch_size is None:\n",
    "        args.batch_size = dataset.get_batch_size()\n",
    "    if hasattr(importlib.import_module('models.' + args.model), 'Buffer') and args.minibatch_size is None:\n",
    "        args.minibatch_size = dataset.get_minibatch_size()\n",
    "    args.n_epochs=2\n",
    "    backbone = dataset.get_backbone()\n",
    "    loss = dataset.get_loss()\n",
    "    model = get_model(args, backbone, loss, dataset.get_transform())\n",
    "\n",
    "    if args.distributed == 'dp':\n",
    "        model.net = make_dp(model.net)\n",
    "        model.to('cuda:0')\n",
    "        args.conf_ngpus = torch.cuda.device_count()\n",
    "    elif args.distributed == 'ddp':\n",
    "        # DDP breaks the buffer, it has to be synchronized.\n",
    "        raise NotImplementedError('Distributed Data Parallel not supported yet.')\n",
    "\n",
    "    if args.debug_mode:\n",
    "        args.nowand = 1\n",
    "\n",
    "    # set job name\n",
    "    setproctitle.setproctitle('{}_{}_{}'.format(args.model, args.buffer_size if 'buffer_size' in args else 0, args.dataset))\n",
    "\n",
    "    if isinstance(dataset, ContinualDataset):\n",
    "        train(model, dataset, args)\n",
    "    else:\n",
    "        assert not hasattr(model, 'end_task') or model.NAME == 'joint_gcl'\n",
    "        ctrain(args)\n",
    "\n",
    "\n"
   ]
  },
  {
   "cell_type": "code",
   "execution_count": 8,
   "metadata": {},
   "outputs": [
    {
     "name": "stderr",
     "output_type": "stream",
     "text": [
      "usage: ipykernel_launcher.py [-h] --model\n",
      "                             {si,lucir,rpc,ewc_on,xder_ce,fdr,er,derpp,agem,er_ace,mer,gss,agem_r,joint,sgd,lwf_mc,gem,xder_rpc,joint_gcl,pnn,icarl,gdumb,bic,hal,lwf,der,xder}\n",
      "                             [--load_best_args] [--seed SEED] [--notes NOTES]\n",
      "                             [--non_verbose {0,1}] [--disable_log {0,1}]\n",
      "                             [--validation {0,1}]\n",
      "                             [--ignore_other_metrics {0,1}]\n",
      "                             [--debug_mode DEBUG_MODE] [--nowand {0,1}]\n",
      "                             [--wandb_entity WANDB_ENTITY]\n",
      "                             [--wandb_project WANDB_PROJECT]\n",
      "ipykernel_launcher.py: error: the following arguments are required: --model\n"
     ]
    },
    {
     "ename": "SystemExit",
     "evalue": "2",
     "output_type": "error",
     "traceback": [
      "An exception has occurred, use %tb to see the full traceback.\n",
      "\u001b[0;31mSystemExit\u001b[0m\u001b[0;31m:\u001b[0m 2\n"
     ]
    },
    {
     "name": "stderr",
     "output_type": "stream",
     "text": [
      "/home/aa5264/Desktop/CL-Mammoth/venv/lib/python3.10/site-packages/IPython/core/interactiveshell.py:3585: UserWarning: To exit: use 'exit', 'quit', or Ctrl-D.\n",
      "  warn(\"To exit: use 'exit', 'quit', or Ctrl-D.\", stacklevel=1)\n"
     ]
    }
   ],
   "source": [
    "\n",
    "\n",
    "\n",
    "\n",
    "\n",
    "def parse_args():\n",
    "    parser = ArgumentParser(description='mammoth', allow_abbrev=False)\n",
    "    parser.add_argument('--model', type=str, required=True,\n",
    "                        help='Model name.', choices=get_all_models())\n",
    "    parser.add_argument('--load_best_args', action='store_true',\n",
    "                        help='Loads the best arguments for each method, '\n",
    "                             'dataset and memory buffer.')\n",
    "    torch.set_num_threads(4)\n",
    "    add_management_args(parser)\n",
    "    args = parser.parse_known_args()[0]\n",
    "    mod = importlib.import_module('models.' + args.model)\n",
    "\n",
    "    if args.load_best_args:\n",
    "        parser.add_argument('--dataset', type=str, required=True,\n",
    "                            choices=DATASET_NAMES,\n",
    "                            help='Which dataset to perform experiments on.')\n",
    "        if hasattr(mod, 'Buffer'):\n",
    "            parser.add_argument('--buffer_size', type=int, required=True,\n",
    "                                help='The size of the memory buffer.')\n",
    "        args = parser.parse_args()\n",
    "        if args.model == 'joint':\n",
    "            best = best_args[args.dataset]['sgd']\n",
    "        else:\n",
    "            best = best_args[args.dataset][args.model]\n",
    "        if hasattr(mod, 'Buffer'):\n",
    "            best = best[args.buffer_size]\n",
    "        else:\n",
    "            best = best[-1]\n",
    "        get_parser = getattr(mod, 'get_parser')\n",
    "        parser = get_parser()\n",
    "        to_parse = sys.argv[1:] + ['--' + k + '=' + str(v) for k, v in best.items()]\n",
    "        to_parse.remove('--load_best_args')\n",
    "        args = parser.parse_args(to_parse)\n",
    "        if args.model == 'joint' and args.dataset == 'mnist-360':\n",
    "            args.model = 'joint_gcl'\n",
    "    else:\n",
    "        get_parser = getattr(mod, 'get_parser')\n",
    "        parser = get_parser()\n",
    "        args = parser.parse_args()\n",
    "\n",
    "    if args.seed is not None:\n",
    "        set_random_seed(args.seed)\n",
    "\n",
    "    return args\n",
    "\n",
    "\n",
    "def main(args=None):\n",
    "    if args is None:\n",
    "        args = parse_args()\n",
    "\n",
    "    os.putenv(\"MKL_SERVICE_FORCE_INTEL\", \"1\")\n",
    "    os.putenv(\"NPY_MKL_FORCE_INTEL\", \"1\")\n",
    "\n",
    "    # Add uuid, timestamp and hostname for logging\n",
    "    args.conf_jobnum = str(uuid.uuid4())\n",
    "    args.conf_timestamp = str(datetime.datetime.now())\n",
    "    args.conf_host = socket.gethostname()\n",
    "    dataset = get_dataset(args)\n",
    "\n",
    "    if args.n_epochs is None and isinstance(dataset, ContinualDataset):\n",
    "        args.n_epochs = dataset.get_epochs()\n",
    "    if args.batch_size is None:\n",
    "        args.batch_size = dataset.get_batch_size()\n",
    "    if hasattr(importlib.import_module('models.' + args.model), 'Buffer') and args.minibatch_size is None:\n",
    "        args.minibatch_size = dataset.get_minibatch_size()\n",
    "\n",
    "    backbone = dataset.get_backbone()\n",
    "    loss = dataset.get_loss()\n",
    "    model = get_model(args, backbone, loss, dataset.get_transform())\n",
    "\n",
    "    if args.distributed == 'dp':\n",
    "        model.net = make_dp(model.net)\n",
    "        model.to('cuda:0')\n",
    "        args.conf_ngpus = torch.cuda.device_count()\n",
    "    elif args.distributed == 'ddp':\n",
    "        # DDP breaks the buffer, it has to be synchronized.\n",
    "        raise NotImplementedError('Distributed Data Parallel not supported yet.')\n",
    "\n",
    "    if args.debug_mode:\n",
    "        args.nowand = 1\n",
    "\n",
    "    # set job name\n",
    "    setproctitle.setproctitle('{}_{}_{}'.format(args.model, args.buffer_size if 'buffer_size' in args else 0, args.dataset))\n",
    "\n",
    "    if isinstance(dataset, ContinualDataset):\n",
    "        train(model, dataset, args)\n",
    "    else:\n",
    "        assert not hasattr(model, 'end_task') or model.NAME == 'joint_gcl'\n",
    "        ctrain(args)\n",
    "\n",
    "\n",
    "if __name__ == '__main__':\n",
    "    main()\n"
   ]
  }
 ],
 "metadata": {
  "kernelspec": {
   "display_name": "venv",
   "language": "python",
   "name": "python3"
  },
  "language_info": {
   "codemirror_mode": {
    "name": "ipython",
    "version": 3
   },
   "file_extension": ".py",
   "mimetype": "text/x-python",
   "name": "python",
   "nbconvert_exporter": "python",
   "pygments_lexer": "ipython3",
   "version": "3.10.12"
  }
 },
 "nbformat": 4,
 "nbformat_minor": 2
}
